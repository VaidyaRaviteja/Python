{
  "nbformat": 4,
  "nbformat_minor": 0,
  "metadata": {
    "colab": {
      "provenance": [],
      "authorship_tag": "ABX9TyPM1WIecdt1cptZ1Kbub985",
      "include_colab_link": true
    },
    "kernelspec": {
      "name": "python3",
      "display_name": "Python 3"
    },
    "language_info": {
      "name": "python"
    }
  },
  "cells": [
    {
      "cell_type": "markdown",
      "metadata": {
        "id": "view-in-github",
        "colab_type": "text"
      },
      "source": [
        "<a href=\"https://colab.research.google.com/github/VaidyaRaviteja/Python/blob/main/Python_Beginner4.ipynb\" target=\"_parent\"><img src=\"https://colab.research.google.com/assets/colab-badge.svg\" alt=\"Open In Colab\"/></a>"
      ]
    },
    {
      "cell_type": "markdown",
      "metadata": {
        "id": "VQRC978ieEKe"
      },
      "source": [
        "## Tuples\n",
        "\n",
        "- **Tuple properties:** ordered, iterable, immutable, can contain multiple data types\n",
        "- Like lists, but they don't change size"
      ]
    },
    {
      "cell_type": "code",
      "metadata": {
        "collapsed": true,
        "id": "YQ_iKkq3eEKf"
      },
      "source": [
        "# create a tuple directly\n",
        "digits = (0, 1, 'two')"
      ],
      "execution_count": 1,
      "outputs": []
    },
    {
      "cell_type": "code",
      "metadata": {
        "collapsed": true,
        "id": "eyNLvtZueEKl"
      },
      "source": [
        "# create a tuple from a list\n",
        "digits = tuple([0, 1, 'two'])"
      ],
      "execution_count": 2,
      "outputs": []
    },
    {
      "cell_type": "code",
      "metadata": {
        "collapsed": true,
        "id": "DVSa7xwpeEKq"
      },
      "source": [
        "# trailing comma is required to indicate it's a tuple\n",
        "zero = (0,)"
      ],
      "execution_count": 3,
      "outputs": []
    },
    {
      "cell_type": "markdown",
      "metadata": {
        "id": "I41-m9H5eEKv"
      },
      "source": [
        "**Examine a tuple:**"
      ]
    },
    {
      "cell_type": "code",
      "metadata": {
        "id": "jvs8hC6ieEKw",
        "outputId": "22e38dcb-9ca4-41e6-a2f8-5a59129a506d",
        "colab": {
          "base_uri": "https://localhost:8080/",
          "height": 35
        }
      },
      "source": [
        "digits[2]"
      ],
      "execution_count": 4,
      "outputs": [
        {
          "output_type": "execute_result",
          "data": {
            "text/plain": [
              "'two'"
            ],
            "application/vnd.google.colaboratory.intrinsic+json": {
              "type": "string"
            }
          },
          "metadata": {},
          "execution_count": 4
        }
      ]
    },
    {
      "cell_type": "code",
      "metadata": {
        "id": "ozZ9xBcqeEKz",
        "outputId": "19df73ee-6316-4594-e1a6-1cba280f7dc5",
        "colab": {
          "base_uri": "https://localhost:8080/"
        }
      },
      "source": [
        "len(digits)"
      ],
      "execution_count": 5,
      "outputs": [
        {
          "output_type": "execute_result",
          "data": {
            "text/plain": [
              "3"
            ]
          },
          "metadata": {},
          "execution_count": 5
        }
      ]
    },
    {
      "cell_type": "code",
      "metadata": {
        "id": "lKFDlIdieEK3",
        "outputId": "7ddb951c-c1da-420c-a5f7-750bac4e1808",
        "colab": {
          "base_uri": "https://localhost:8080/"
        }
      },
      "source": [
        "# counts the number of instances of that value\n",
        "digits.count(0)"
      ],
      "execution_count": 6,
      "outputs": [
        {
          "output_type": "execute_result",
          "data": {
            "text/plain": [
              "1"
            ]
          },
          "metadata": {},
          "execution_count": 6
        }
      ]
    },
    {
      "cell_type": "code",
      "metadata": {
        "id": "2WBoN0P_eELL",
        "outputId": "c65b3d53-764a-40b5-fc62-7f9bfeb880bb",
        "colab": {
          "base_uri": "https://localhost:8080/"
        }
      },
      "source": [
        "# returns the index of the first instance of that value\n",
        "digits.index(1)"
      ],
      "execution_count": 7,
      "outputs": [
        {
          "output_type": "execute_result",
          "data": {
            "text/plain": [
              "1"
            ]
          },
          "metadata": {},
          "execution_count": 7
        }
      ]
    },
    {
      "cell_type": "markdown",
      "metadata": {
        "id": "whEhyFUYeELQ"
      },
      "source": [
        "**Modify a tuple:**"
      ]
    },
    {
      "cell_type": "code",
      "metadata": {
        "collapsed": true,
        "id": "a_k7fhtIeELR"
      },
      "source": [
        "# elements of a tuple cannot be modified (this would throw an error)\n",
        "# digits[2] = 2"
      ],
      "execution_count": 8,
      "outputs": []
    },
    {
      "cell_type": "code",
      "metadata": {
        "id": "Fj4BWF51eELV",
        "outputId": "051b94d2-91f5-4444-9790-6f8cf8bf523d",
        "colab": {
          "base_uri": "https://localhost:8080/"
        }
      },
      "source": [
        "# concatenate tuples\n",
        "digits = digits + (3, 4)\n",
        "digits"
      ],
      "execution_count": 9,
      "outputs": [
        {
          "output_type": "execute_result",
          "data": {
            "text/plain": [
              "(0, 1, 'two', 3, 4)"
            ]
          },
          "metadata": {},
          "execution_count": 9
        }
      ]
    },
    {
      "cell_type": "markdown",
      "metadata": {
        "id": "nkIvEeLNeELX"
      },
      "source": [
        "**Other tuple operations:**"
      ]
    },
    {
      "cell_type": "code",
      "metadata": {
        "id": "XDS3aYm9eELY",
        "outputId": "ea5a00ea-0212-4c32-9c46-17dc75a02e24",
        "colab": {
          "base_uri": "https://localhost:8080/"
        }
      },
      "source": [
        "# create a single tuple with elements repeated (also works with lists)\n",
        "(3, 4) * 2"
      ],
      "execution_count": 10,
      "outputs": [
        {
          "output_type": "execute_result",
          "data": {
            "text/plain": [
              "(3, 4, 3, 4)"
            ]
          },
          "metadata": {},
          "execution_count": 10
        }
      ]
    },
    {
      "cell_type": "code",
      "metadata": {
        "id": "nOngqJeWeELa",
        "colab": {
          "base_uri": "https://localhost:8080/"
        },
        "outputId": "cfdb37b3-19c0-4feb-dcbc-a216944908b4"
      },
      "source": [
        "# sort a list of tuples\n",
        "tens = [(20, 60), (10, 40), (20, 30)]\n",
        "sorted(tens)    # sorts by first element in tuple, then second element"
      ],
      "execution_count": 11,
      "outputs": [
        {
          "output_type": "execute_result",
          "data": {
            "text/plain": [
              "[(10, 40), (20, 30), (20, 60)]"
            ]
          },
          "metadata": {},
          "execution_count": 11
        }
      ]
    },
    {
      "cell_type": "code",
      "metadata": {
        "colab": {
          "base_uri": "https://localhost:8080/"
        },
        "id": "BQMeznV3DwVT",
        "outputId": "f4e53cab-f644-4f9c-f871-9207d651fab2"
      },
      "source": [
        "num=[(5,10),(20,25),(10,15)]\n",
        "sorted(num)"
      ],
      "execution_count": 12,
      "outputs": [
        {
          "output_type": "execute_result",
          "data": {
            "text/plain": [
              "[(5, 10), (10, 15), (20, 25)]"
            ]
          },
          "metadata": {},
          "execution_count": 12
        }
      ]
    },
    {
      "cell_type": "code",
      "metadata": {
        "id": "MFDynoFLeELd",
        "outputId": "29b73cb5-09b3-4ce1-e61b-9ca0d5384018",
        "colab": {
          "base_uri": "https://localhost:8080/"
        }
      },
      "source": [
        "# tuple unpacking\n",
        "student = ('male', 10, 'Ravi')    # create a tuple\n",
        "(sex, age, surname) = student        # assign three values at once\n",
        "print(sex)\n",
        "print(age)\n",
        "print(surname)"
      ],
      "execution_count": 13,
      "outputs": [
        {
          "output_type": "stream",
          "name": "stdout",
          "text": [
            "male\n",
            "10\n",
            "Ravi\n"
          ]
        }
      ]
    },
    {
      "cell_type": "code",
      "metadata": {
        "colab": {
          "base_uri": "https://localhost:8080/"
        },
        "id": "sr72O3m3EryC",
        "outputId": "8ead97e1-f76b-45f9-9f8d-a8eece048f5b"
      },
      "source": [
        "teja=('redmi','hp','water')\n",
        "(mobile,laptop,bottle)=teja\n",
        "print(mobile)\n",
        "print(laptop)\n",
        "print(bottle)"
      ],
      "execution_count": 14,
      "outputs": [
        {
          "output_type": "stream",
          "name": "stdout",
          "text": [
            "redmi\n",
            "hp\n",
            "water\n"
          ]
        }
      ]
    },
    {
      "cell_type": "code",
      "source": [],
      "metadata": {
        "id": "BuU1nIj6Ebqh"
      },
      "execution_count": 14,
      "outputs": []
    }
  ]
}