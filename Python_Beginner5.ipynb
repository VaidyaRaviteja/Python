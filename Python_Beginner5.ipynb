{
  "nbformat": 4,
  "nbformat_minor": 0,
  "metadata": {
    "colab": {
      "provenance": [],
      "authorship_tag": "ABX9TyMCzcNYJ68axjuFS2q7q+F4",
      "include_colab_link": true
    },
    "kernelspec": {
      "name": "python3",
      "display_name": "Python 3"
    },
    "language_info": {
      "name": "python"
    }
  },
  "cells": [
    {
      "cell_type": "markdown",
      "metadata": {
        "id": "view-in-github",
        "colab_type": "text"
      },
      "source": [
        "<a href=\"https://colab.research.google.com/github/VaidyaRaviteja/Python/blob/main/Python_Beginner5.ipynb\" target=\"_parent\"><img src=\"https://colab.research.google.com/assets/colab-badge.svg\" alt=\"Open In Colab\"/></a>"
      ]
    },
    {
      "cell_type": "markdown",
      "metadata": {
        "id": "HCd9_62geELh"
      },
      "source": [
        "## Strings\n",
        "\n",
        "- **String properties:** iterable, immutable"
      ]
    },
    {
      "cell_type": "code",
      "metadata": {
        "id": "sS6ma5kceELh",
        "outputId": "2a1b6b17-3c5f-419e-d931-bda54af0cc3c",
        "colab": {
          "base_uri": "https://localhost:8080/",
          "height": 35
        }
      },
      "source": [
        "# convert another data type into a string\n",
        "s = str(42)\n",
        "s"
      ],
      "execution_count": 1,
      "outputs": [
        {
          "output_type": "execute_result",
          "data": {
            "text/plain": [
              "'42'"
            ],
            "application/vnd.google.colaboratory.intrinsic+json": {
              "type": "string"
            }
          },
          "metadata": {},
          "execution_count": 1
        }
      ]
    },
    {
      "cell_type": "code",
      "metadata": {
        "id": "cCaQOSaTeELj"
      },
      "source": [
        "# create a string directly\n",
        "s = 'I like you'"
      ],
      "execution_count": 2,
      "outputs": []
    },
    {
      "cell_type": "markdown",
      "metadata": {
        "id": "npHdKDwpeELl"
      },
      "source": [
        "**Examine a string:**"
      ]
    },
    {
      "cell_type": "code",
      "metadata": {
        "id": "4ZSOilRqeELl",
        "outputId": "fb59a3cd-b769-44e6-853b-e10c6fe4cf4d",
        "colab": {
          "base_uri": "https://localhost:8080/",
          "height": 35
        }
      },
      "source": [
        "s[0]"
      ],
      "execution_count": 3,
      "outputs": [
        {
          "output_type": "execute_result",
          "data": {
            "text/plain": [
              "'I'"
            ],
            "application/vnd.google.colaboratory.intrinsic+json": {
              "type": "string"
            }
          },
          "metadata": {},
          "execution_count": 3
        }
      ]
    },
    {
      "cell_type": "code",
      "metadata": {
        "id": "8J6-I09peELn",
        "outputId": "e869d85a-279c-43cc-c608-b9a0bad900b9",
        "colab": {
          "base_uri": "https://localhost:8080/"
        }
      },
      "source": [
        "len(s)"
      ],
      "execution_count": 4,
      "outputs": [
        {
          "output_type": "execute_result",
          "data": {
            "text/plain": [
              "10"
            ]
          },
          "metadata": {},
          "execution_count": 4
        }
      ]
    },
    {
      "cell_type": "markdown",
      "metadata": {
        "id": "cBbkohYVeELp"
      },
      "source": [
        "**String slicing is like list slicing:**"
      ]
    },
    {
      "cell_type": "code",
      "metadata": {
        "id": "HSltwVsueELq",
        "outputId": "a3752e9b-3739-4151-e1a1-d64d1f3b389d",
        "colab": {
          "base_uri": "https://localhost:8080/",
          "height": 35
        }
      },
      "source": [
        "s[:6]"
      ],
      "execution_count": 5,
      "outputs": [
        {
          "output_type": "execute_result",
          "data": {
            "text/plain": [
              "'I like'"
            ],
            "application/vnd.google.colaboratory.intrinsic+json": {
              "type": "string"
            }
          },
          "metadata": {},
          "execution_count": 5
        }
      ]
    },
    {
      "cell_type": "code",
      "metadata": {
        "id": "ruSz5-p0eELr",
        "outputId": "bfd1fc0f-c81e-4191-f525-c24093ebe227",
        "colab": {
          "base_uri": "https://localhost:8080/",
          "height": 35
        }
      },
      "source": [
        "s[7:]"
      ],
      "execution_count": 6,
      "outputs": [
        {
          "output_type": "execute_result",
          "data": {
            "text/plain": [
              "'you'"
            ],
            "application/vnd.google.colaboratory.intrinsic+json": {
              "type": "string"
            }
          },
          "metadata": {},
          "execution_count": 6
        }
      ]
    },
    {
      "cell_type": "code",
      "metadata": {
        "id": "xS6aR1D_eELu",
        "outputId": "ca4a9393-f748-40b2-c8cf-299ef3c3bae1",
        "colab": {
          "base_uri": "https://localhost:8080/",
          "height": 35
        }
      },
      "source": [
        "s[-1]"
      ],
      "execution_count": 7,
      "outputs": [
        {
          "output_type": "execute_result",
          "data": {
            "text/plain": [
              "'u'"
            ],
            "application/vnd.google.colaboratory.intrinsic+json": {
              "type": "string"
            }
          },
          "metadata": {},
          "execution_count": 7
        }
      ]
    },
    {
      "cell_type": "markdown",
      "metadata": {
        "id": "PoSzChMCeELw"
      },
      "source": [
        "**Basic string methods (does not modify the original string):**"
      ]
    },
    {
      "cell_type": "code",
      "metadata": {
        "id": "-FevWIIZeELx",
        "outputId": "8c900d05-c4cd-4b61-8230-b8e3adbc6ed0",
        "colab": {
          "base_uri": "https://localhost:8080/",
          "height": 35
        }
      },
      "source": [
        "s.lower()"
      ],
      "execution_count": 8,
      "outputs": [
        {
          "output_type": "execute_result",
          "data": {
            "text/plain": [
              "'i like you'"
            ],
            "application/vnd.google.colaboratory.intrinsic+json": {
              "type": "string"
            }
          },
          "metadata": {},
          "execution_count": 8
        }
      ]
    },
    {
      "cell_type": "code",
      "metadata": {
        "id": "BTrZXBRyeELz",
        "outputId": "18cb919a-33fe-4e20-fe1c-72e4107d1818",
        "colab": {
          "base_uri": "https://localhost:8080/",
          "height": 35
        }
      },
      "source": [
        "s.upper()"
      ],
      "execution_count": 9,
      "outputs": [
        {
          "output_type": "execute_result",
          "data": {
            "text/plain": [
              "'I LIKE YOU'"
            ],
            "application/vnd.google.colaboratory.intrinsic+json": {
              "type": "string"
            }
          },
          "metadata": {},
          "execution_count": 9
        }
      ]
    },
    {
      "cell_type": "code",
      "metadata": {
        "id": "N24_B_wveEL1",
        "outputId": "cde45dfd-18f5-4ad4-a339-905504c66a51",
        "colab": {
          "base_uri": "https://localhost:8080/"
        }
      },
      "source": [
        "s.startswith('I')"
      ],
      "execution_count": 10,
      "outputs": [
        {
          "output_type": "execute_result",
          "data": {
            "text/plain": [
              "True"
            ]
          },
          "metadata": {},
          "execution_count": 10
        }
      ]
    },
    {
      "cell_type": "code",
      "metadata": {
        "id": "tXKd580PeEL3",
        "outputId": "2bb458ea-0051-4060-aed2-63768797bd45",
        "colab": {
          "base_uri": "https://localhost:8080/"
        }
      },
      "source": [
        "s.endswith('you')"
      ],
      "execution_count": 11,
      "outputs": [
        {
          "output_type": "execute_result",
          "data": {
            "text/plain": [
              "True"
            ]
          },
          "metadata": {},
          "execution_count": 11
        }
      ]
    },
    {
      "cell_type": "code",
      "metadata": {
        "id": "Qg_OPspKeEL4",
        "outputId": "800f0dfd-a793-4033-97ed-b27a08315407",
        "colab": {
          "base_uri": "https://localhost:8080/"
        }
      },
      "source": [
        "# checks whether every character in the string is a digit\n",
        "s.isdigit()"
      ],
      "execution_count": 12,
      "outputs": [
        {
          "output_type": "execute_result",
          "data": {
            "text/plain": [
              "False"
            ]
          },
          "metadata": {},
          "execution_count": 12
        }
      ]
    },
    {
      "cell_type": "code",
      "metadata": {
        "id": "5R4RpmFyeEL7",
        "outputId": "3f0a966d-ebff-4b11-8b31-e27c8dfa3a53",
        "colab": {
          "base_uri": "https://localhost:8080/"
        }
      },
      "source": [
        "# returns index of first occurrence, but doesn't support regex\n",
        "s.find('like')"
      ],
      "execution_count": 13,
      "outputs": [
        {
          "output_type": "execute_result",
          "data": {
            "text/plain": [
              "2"
            ]
          },
          "metadata": {},
          "execution_count": 13
        }
      ]
    },
    {
      "cell_type": "code",
      "metadata": {
        "id": "HQ9ig_-ieEL9",
        "outputId": "028ed431-ac30-47ce-d4d3-fdb5f7fa3393",
        "colab": {
          "base_uri": "https://localhost:8080/"
        }
      },
      "source": [
        "# returns -1 since not found\n",
        "s.find('hate')"
      ],
      "execution_count": 14,
      "outputs": [
        {
          "output_type": "execute_result",
          "data": {
            "text/plain": [
              "-1"
            ]
          },
          "metadata": {},
          "execution_count": 14
        }
      ]
    },
    {
      "cell_type": "code",
      "metadata": {
        "id": "KrvCU6gCeEMA",
        "outputId": "6de0a120-14fb-49d5-fdb8-975553cb3d46",
        "colab": {
          "base_uri": "https://localhost:8080/",
          "height": 35
        }
      },
      "source": [
        "# replaces all instances of 'like' with 'love'\n",
        "s.replace('like', 'love')"
      ],
      "execution_count": 15,
      "outputs": [
        {
          "output_type": "execute_result",
          "data": {
            "text/plain": [
              "'I love you'"
            ],
            "application/vnd.google.colaboratory.intrinsic+json": {
              "type": "string"
            }
          },
          "metadata": {},
          "execution_count": 15
        }
      ]
    },
    {
      "cell_type": "markdown",
      "metadata": {
        "id": "WVAGtgGyeEMG"
      },
      "source": [
        "**Split a string:**"
      ]
    },
    {
      "cell_type": "code",
      "metadata": {
        "id": "9YqUtsbXeEMH",
        "outputId": "5ed0366a-b8dc-455c-df8b-2e755bf246aa",
        "colab": {
          "base_uri": "https://localhost:8080/"
        }
      },
      "source": [
        "# split a string into a list of substrings separated by a delimiter\n",
        "s.split(' ')"
      ],
      "execution_count": 16,
      "outputs": [
        {
          "output_type": "execute_result",
          "data": {
            "text/plain": [
              "['I', 'like', 'you']"
            ]
          },
          "metadata": {},
          "execution_count": 16
        }
      ]
    },
    {
      "cell_type": "code",
      "metadata": {
        "colab": {
          "base_uri": "https://localhost:8080/"
        },
        "id": "dFV7mLYNyXUK",
        "outputId": "8b1f2987-a564-451e-d246-f3ab90c5d291"
      },
      "source": [
        "r='i want pen'\n",
        "r.split()\n"
      ],
      "execution_count": 17,
      "outputs": [
        {
          "output_type": "execute_result",
          "data": {
            "text/plain": [
              "['i', 'want', 'pen']"
            ]
          },
          "metadata": {},
          "execution_count": 17
        }
      ]
    },
    {
      "cell_type": "code",
      "metadata": {
        "id": "ggmdC2-HeEMK",
        "outputId": "61e5e6ef-0024-4fe4-b5b9-ba9bcd96b791",
        "colab": {
          "base_uri": "https://localhost:8080/"
        }
      },
      "source": [
        "# equivalent (since space is the default delimiter)\n",
        "s.split()"
      ],
      "execution_count": 18,
      "outputs": [
        {
          "output_type": "execute_result",
          "data": {
            "text/plain": [
              "['I', 'like', 'you']"
            ]
          },
          "metadata": {},
          "execution_count": 18
        }
      ]
    },
    {
      "cell_type": "code",
      "metadata": {
        "id": "D62ilF-3eEMN",
        "outputId": "2c3f91de-26a2-4f3e-f8d3-dbb186fc40c6",
        "colab": {
          "base_uri": "https://localhost:8080/"
        }
      },
      "source": [
        "s2 = 'a, an, the'\n",
        "s2.split(',')"
      ],
      "execution_count": 19,
      "outputs": [
        {
          "output_type": "execute_result",
          "data": {
            "text/plain": [
              "['a', ' an', ' the']"
            ]
          },
          "metadata": {},
          "execution_count": 19
        }
      ]
    },
    {
      "cell_type": "markdown",
      "metadata": {
        "id": "l0Y-B5uIeEMO"
      },
      "source": [
        "**Join or concatenate strings:**"
      ]
    },
    {
      "cell_type": "code",
      "metadata": {
        "id": "MvZUKqyceEMP",
        "outputId": "c2ddc596-5f08-4d08-8307-696e4739f8ea",
        "colab": {
          "base_uri": "https://localhost:8080/",
          "height": 35
        }
      },
      "source": [
        "# join a list of strings into one string using a delimiter\n",
        "Employees = ['sadvik', 'sanjay', 'santosh']\n",
        "' '.join(Employees)"
      ],
      "execution_count": 29,
      "outputs": [
        {
          "output_type": "execute_result",
          "data": {
            "text/plain": [
              "'sadvik sanjay santosh'"
            ],
            "application/vnd.google.colaboratory.intrinsic+json": {
              "type": "string"
            }
          },
          "metadata": {},
          "execution_count": 29
        }
      ]
    },
    {
      "cell_type": "code",
      "metadata": {
        "id": "YpqmRkkgeEMQ",
        "scrolled": true,
        "outputId": "8cdc7a45-15d9-454f-997d-183d98eabde4",
        "colab": {
          "base_uri": "https://localhost:8080/",
          "height": 35
        }
      },
      "source": [
        "# concatenate strings\n",
        "s3 = 'The meaning of life is'\n",
        "s4 = 'like Ocean'\n",
        "s3 + ' ' + s4"
      ],
      "execution_count": 32,
      "outputs": [
        {
          "output_type": "execute_result",
          "data": {
            "text/plain": [
              "'The meaning of life is like Ocean'"
            ],
            "application/vnd.google.colaboratory.intrinsic+json": {
              "type": "string"
            }
          },
          "metadata": {},
          "execution_count": 32
        }
      ]
    },
    {
      "cell_type": "markdown",
      "metadata": {
        "id": "81FVPTOCeEMT"
      },
      "source": [
        "**Remove whitespace from the start and end of a string:**"
      ]
    },
    {
      "cell_type": "code",
      "metadata": {
        "id": "R3wsE7eGeEMU",
        "outputId": "d4188e79-f3d1-4e29-c0a5-65daeba05f1e",
        "colab": {
          "base_uri": "https://localhost:8080/",
          "height": 52
        }
      },
      "source": [
        "s5 = '  Ram and Seeta  '\n",
        "print(s5) # whitespaces\n",
        "s5.strip()"
      ],
      "execution_count": 35,
      "outputs": [
        {
          "output_type": "stream",
          "name": "stdout",
          "text": [
            "  Ram and Seeta  \n"
          ]
        },
        {
          "output_type": "execute_result",
          "data": {
            "text/plain": [
              "'Ram and Seeta'"
            ],
            "application/vnd.google.colaboratory.intrinsic+json": {
              "type": "string"
            }
          },
          "metadata": {},
          "execution_count": 35
        }
      ]
    },
    {
      "cell_type": "markdown",
      "metadata": {
        "id": "01KcW9IjeEMV"
      },
      "source": [
        "**String substitutions:**"
      ]
    },
    {
      "cell_type": "code",
      "metadata": {
        "id": "lsvhv9HaeEMV",
        "outputId": "5654e13f-d4d5-4741-f468-73e54cd7a754",
        "colab": {
          "base_uri": "https://localhost:8080/",
          "height": 35
        }
      },
      "source": [
        "# old way\n",
        "'There are animals %s and %s' % ('cats', 'dogs')"
      ],
      "execution_count": 23,
      "outputs": [
        {
          "output_type": "execute_result",
          "data": {
            "text/plain": [
              "'raining cats and dogs'"
            ],
            "application/vnd.google.colaboratory.intrinsic+json": {
              "type": "string"
            }
          },
          "metadata": {},
          "execution_count": 23
        }
      ]
    },
    {
      "cell_type": "code",
      "metadata": {
        "id": "mKoWLKs4eEMX",
        "outputId": "99994307-8c57-4793-fbfa-d6f128fd9607",
        "colab": {
          "base_uri": "https://localhost:8080/",
          "height": 35
        }
      },
      "source": [
        "# new way\n",
        "'There are animals {} and {}'.format('cats', 'dogs')"
      ],
      "execution_count": 24,
      "outputs": [
        {
          "output_type": "execute_result",
          "data": {
            "text/plain": [
              "'raining cats and dogs'"
            ],
            "application/vnd.google.colaboratory.intrinsic+json": {
              "type": "string"
            }
          },
          "metadata": {},
          "execution_count": 24
        }
      ]
    },
    {
      "cell_type": "code",
      "metadata": {
        "id": "66LpW4GTeEMZ",
        "scrolled": true,
        "outputId": "5135cc71-689e-4e0c-b36e-8bd309507fb2",
        "colab": {
          "base_uri": "https://localhost:8080/",
          "height": 35
        }
      },
      "source": [
        "# new way (using named arguments)\n",
        "'There are animals {arg1} and {arg2}'.format(arg1='cats', arg2='dogs')"
      ],
      "execution_count": 25,
      "outputs": [
        {
          "output_type": "execute_result",
          "data": {
            "text/plain": [
              "'raining cats and dogs'"
            ],
            "application/vnd.google.colaboratory.intrinsic+json": {
              "type": "string"
            }
          },
          "metadata": {},
          "execution_count": 25
        }
      ]
    },
    {
      "cell_type": "markdown",
      "metadata": {
        "id": "yEujsfOteEMa"
      },
      "source": [
        "**String formatting :**"
      ]
    },
    {
      "cell_type": "code",
      "metadata": {
        "id": "lePKcVy2eEMa",
        "outputId": "ca3f8f75-96ef-45dc-d422-0d6cb6ddbf3c",
        "colab": {
          "base_uri": "https://localhost:8080/",
          "height": 35
        }
      },
      "source": [
        "# use 2 decimal places\n",
        "'pi is {:.2f}'.format(3.14159)"
      ],
      "execution_count": 26,
      "outputs": [
        {
          "output_type": "execute_result",
          "data": {
            "text/plain": [
              "'pi is 3.14'"
            ],
            "application/vnd.google.colaboratory.intrinsic+json": {
              "type": "string"
            }
          },
          "metadata": {},
          "execution_count": 26
        }
      ]
    },
    {
      "cell_type": "markdown",
      "metadata": {
        "id": "0GfCB14ZeEMb"
      },
      "source": [
        "**Normal strings versus raw strings:**"
      ]
    },
    {
      "cell_type": "code",
      "metadata": {
        "id": "xItT0lH3eEMc",
        "outputId": "8932139e-bb17-4f1b-8f11-629a915bbf7b",
        "colab": {
          "base_uri": "https://localhost:8080/"
        }
      },
      "source": [
        "# normal strings allow for escaped characters\n",
        "print('first line\\nsecond line')"
      ],
      "execution_count": 27,
      "outputs": [
        {
          "output_type": "stream",
          "name": "stdout",
          "text": [
            "first line\n",
            "second line\n"
          ]
        }
      ]
    },
    {
      "cell_type": "code",
      "metadata": {
        "id": "dprpO2__eEMg",
        "outputId": "7e21e16b-d0a4-4ba1-e6d3-6dd68bf6bcbc",
        "colab": {
          "base_uri": "https://localhost:8080/"
        }
      },
      "source": [
        "# raw strings treat backslashes as literal characters\n",
        "print(r'first line\\nfirst line')"
      ],
      "execution_count": 28,
      "outputs": [
        {
          "output_type": "stream",
          "name": "stdout",
          "text": [
            "first line\\nfirst line\n"
          ]
        }
      ]
    }
  ]
}