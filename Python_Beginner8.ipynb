{
  "nbformat": 4,
  "nbformat_minor": 0,
  "metadata": {
    "colab": {
      "provenance": [],
      "authorship_tag": "ABX9TyMCatj0HVz/GCD4S19BFFvv",
      "include_colab_link": true
    },
    "kernelspec": {
      "name": "python3",
      "display_name": "Python 3"
    },
    "language_info": {
      "name": "python"
    }
  },
  "cells": [
    {
      "cell_type": "markdown",
      "metadata": {
        "id": "view-in-github",
        "colab_type": "text"
      },
      "source": [
        "<a href=\"https://colab.research.google.com/github/VaidyaRaviteja/Python/blob/main/Python_Beginner8.ipynb\" target=\"_parent\"><img src=\"https://colab.research.google.com/assets/colab-badge.svg\" alt=\"Open In Colab\"/></a>"
      ]
    },
    {
      "cell_type": "code",
      "source": [
        "a = range(10)\n",
        "a"
      ],
      "metadata": {
        "colab": {
          "base_uri": "https://localhost:8080/"
        },
        "id": "6US-ohq4TGVn",
        "outputId": "1f200872-aed7-42ae-8c71-19b055e34899"
      },
      "execution_count": 1,
      "outputs": [
        {
          "output_type": "execute_result",
          "data": {
            "text/plain": [
              "range(0, 10)"
            ]
          },
          "metadata": {},
          "execution_count": 1
        }
      ]
    },
    {
      "cell_type": "code",
      "source": [
        "List1 = [1,2,3,3,4,5]\n",
        "List1[3]"
      ],
      "metadata": {
        "colab": {
          "base_uri": "https://localhost:8080/"
        },
        "id": "nayQMmaPUx8q",
        "outputId": "5d97d72a-067d-4ced-ff63-6a617952cb8d"
      },
      "execution_count": 2,
      "outputs": [
        {
          "output_type": "execute_result",
          "data": {
            "text/plain": [
              "3"
            ]
          },
          "metadata": {},
          "execution_count": 2
        }
      ]
    },
    {
      "cell_type": "code",
      "source": [
        "Tuple = (1,1,2,5,6)\n",
        "Tuple"
      ],
      "metadata": {
        "colab": {
          "base_uri": "https://localhost:8080/"
        },
        "id": "Aibq8RaOtplF",
        "outputId": "a3bda9b5-fe56-4075-cf41-99ae42c6d688"
      },
      "execution_count": 3,
      "outputs": [
        {
          "output_type": "execute_result",
          "data": {
            "text/plain": [
              "(1, 1, 2, 5, 6)"
            ]
          },
          "metadata": {},
          "execution_count": 3
        }
      ]
    },
    {
      "cell_type": "code",
      "source": [
        "###Adding Two nUmbers\n",
        "a = int(input(\"Enter a Number: \"))\n",
        "b = int(input(\"Enter b Number: \"))\n",
        "print(\"The Sum of two variables are: \",a+b)\n"
      ],
      "metadata": {
        "colab": {
          "base_uri": "https://localhost:8080/",
          "height": 211
        },
        "id": "LeZFFhpyvk5r",
        "outputId": "e639c788-d5d3-4a73-d5c4-2c5675ce6920"
      },
      "execution_count": 4,
      "outputs": [
        {
          "name": "stdout",
          "output_type": "stream",
          "text": [
            "Enter a Number: \n"
          ]
        },
        {
          "output_type": "error",
          "ename": "ValueError",
          "evalue": "invalid literal for int() with base 10: ''",
          "traceback": [
            "\u001b[0;31m---------------------------------------------------------------------------\u001b[0m",
            "\u001b[0;31mValueError\u001b[0m                                Traceback (most recent call last)",
            "\u001b[0;32m<ipython-input-4-f4a96c7e3fd8>\u001b[0m in \u001b[0;36m<cell line: 2>\u001b[0;34m()\u001b[0m\n\u001b[1;32m      1\u001b[0m \u001b[0;31m###Adding Two nUmbers\u001b[0m\u001b[0;34m\u001b[0m\u001b[0;34m\u001b[0m\u001b[0m\n\u001b[0;32m----> 2\u001b[0;31m \u001b[0ma\u001b[0m \u001b[0;34m=\u001b[0m \u001b[0mint\u001b[0m\u001b[0;34m(\u001b[0m\u001b[0minput\u001b[0m\u001b[0;34m(\u001b[0m\u001b[0;34m\"Enter a Number: \"\u001b[0m\u001b[0;34m)\u001b[0m\u001b[0;34m)\u001b[0m\u001b[0;34m\u001b[0m\u001b[0;34m\u001b[0m\u001b[0m\n\u001b[0m\u001b[1;32m      3\u001b[0m \u001b[0mb\u001b[0m \u001b[0;34m=\u001b[0m \u001b[0mint\u001b[0m\u001b[0;34m(\u001b[0m\u001b[0minput\u001b[0m\u001b[0;34m(\u001b[0m\u001b[0;34m\"Enter b Number: \"\u001b[0m\u001b[0;34m)\u001b[0m\u001b[0;34m)\u001b[0m\u001b[0;34m\u001b[0m\u001b[0;34m\u001b[0m\u001b[0m\n\u001b[1;32m      4\u001b[0m \u001b[0mprint\u001b[0m\u001b[0;34m(\u001b[0m\u001b[0;34m\"The Sum of two variables are: \"\u001b[0m\u001b[0;34m,\u001b[0m\u001b[0ma\u001b[0m\u001b[0;34m+\u001b[0m\u001b[0mb\u001b[0m\u001b[0;34m)\u001b[0m\u001b[0;34m\u001b[0m\u001b[0;34m\u001b[0m\u001b[0m\n",
            "\u001b[0;31mValueError\u001b[0m: invalid literal for int() with base 10: ''"
          ]
        }
      ]
    },
    {
      "cell_type": "code",
      "source": [
        "print(\"Employee Details\")\n",
        "Eno_  = int(input(\"Enter the Employee Id: \"))\n",
        "Ename = input(\"Enter the Employee Name: \")\n",
        "Esal  = int(input(\"Enter the Employee Salary: \"))\n",
        "Eaddr = input(\"Enter the Emplpoyee Address: \")\n",
        "Emarry = input(\"Enter the marital status[True|False]: \")\n",
        "print(\"Confirm the Deatils \")\n",
        "print(\"Employee No: \",Eno_)\n",
        "print(\"Employee Name is: \",Ename)\n",
        "print(\"Employee Salary is: \",Esal)\n",
        "print(\"Employee Address is: \",Eaddr)\n",
        "print(\"Employee Marital Status is: \",Emarry)"
      ],
      "metadata": {
        "id": "7uxaj6xJAvLm"
      },
      "execution_count": null,
      "outputs": []
    },
    {
      "cell_type": "code",
      "source": [
        "a,b = [int(x) for x in input(\"Enter two numbers: \").split()]\n",
        "print(\"Product is: \",a*b)"
      ],
      "metadata": {
        "id": "G5CyS2EdDBzH"
      },
      "execution_count": null,
      "outputs": []
    },
    {
      "cell_type": "code",
      "source": [
        "x,y = [int(z) for z in input(\"Enter two numbers: \").split()]\n",
        "print(\"Division of two numbers : \",x/y)"
      ],
      "metadata": {
        "id": "STGlBm3rGSow"
      },
      "execution_count": null,
      "outputs": []
    },
    {
      "cell_type": "code",
      "source": [
        "ravi,teja = [int(a) for a in input(\"Enter both numbers\").split()]\n",
        "print(\"Addition of both numbers is : \",ravi+teja)"
      ],
      "metadata": {
        "id": "BvzblmEvG3fp"
      },
      "execution_count": null,
      "outputs": []
    },
    {
      "cell_type": "code",
      "source": [
        "x,y,z = [float(a) for a in input(\"Enter 3 Float values: \").split()]\n",
        "print(\"Sum of 3 float values are: \",x+y+z)"
      ],
      "metadata": {
        "id": "XANSlEHwHjR-"
      },
      "execution_count": null,
      "outputs": []
    },
    {
      "cell_type": "code",
      "source": [
        "### Add 4 candidates %\n",
        "f,g,h,j = [float(b) for b in input(\"Enter Percentage values of every one: \").split()]\n",
        "print(\"Sum of Percentage value is: \",f+g+j+h , \"Out of 400.\")"
      ],
      "metadata": {
        "id": "6wm8WMFYIQ2P"
      },
      "execution_count": null,
      "outputs": []
    },
    {
      "cell_type": "code",
      "source": [
        "x = eval(input(\"Solve the given data: \",q+r+t+u))"
      ],
      "metadata": {
        "id": "C2dRM6cbJz2p"
      },
      "execution_count": null,
      "outputs": []
    },
    {
      "cell_type": "code",
      "source": [],
      "metadata": {
        "id": "8nku__HGnYHr"
      },
      "execution_count": 4,
      "outputs": []
    },
    {
      "cell_type": "code",
      "source": [
        "g = 30\n",
        "b = (g/100 *100)\n",
        "print(b)"
      ],
      "metadata": {
        "colab": {
          "base_uri": "https://localhost:8080/"
        },
        "id": "5FC35P8LP-Ty",
        "outputId": "2f42bc10-9bc6-4222-a621-f7d23bb08b4d"
      },
      "execution_count": 5,
      "outputs": [
        {
          "output_type": "stream",
          "name": "stdout",
          "text": [
            "30.0\n"
          ]
        }
      ]
    },
    {
      "cell_type": "code",
      "source": [
        "g = 30\n",
        "t = 100\n",
        "p = (g/100)*100\n",
        "print(p)"
      ],
      "metadata": {
        "colab": {
          "base_uri": "https://localhost:8080/"
        },
        "id": "Y7j9Gn9TmxmY",
        "outputId": "8c7f4479-b33a-4d54-b728-1ada7054fdc7"
      },
      "execution_count": 6,
      "outputs": [
        {
          "output_type": "stream",
          "name": "stdout",
          "text": [
            "30.0\n"
          ]
        }
      ]
    },
    {
      "cell_type": "code",
      "source": [
        "part = 40  # part of the total\n",
        "total = 00  # total value\n",
        "percentage = (part / total) * 100\n",
        "print(\"Percentage:\", percentage)"
      ],
      "metadata": {
        "colab": {
          "base_uri": "https://localhost:8080/",
          "height": 193
        },
        "id": "ypjwAIJ410OU",
        "outputId": "501694fd-d7de-40fd-c495-789925218771"
      },
      "execution_count": 7,
      "outputs": [
        {
          "output_type": "error",
          "ename": "ZeroDivisionError",
          "evalue": "division by zero",
          "traceback": [
            "\u001b[0;31m---------------------------------------------------------------------------\u001b[0m",
            "\u001b[0;31mZeroDivisionError\u001b[0m                         Traceback (most recent call last)",
            "\u001b[0;32m<ipython-input-7-b540286b938c>\u001b[0m in \u001b[0;36m<cell line: 3>\u001b[0;34m()\u001b[0m\n\u001b[1;32m      1\u001b[0m \u001b[0mpart\u001b[0m \u001b[0;34m=\u001b[0m \u001b[0;36m40\u001b[0m  \u001b[0;31m# part of the total\u001b[0m\u001b[0;34m\u001b[0m\u001b[0;34m\u001b[0m\u001b[0m\n\u001b[1;32m      2\u001b[0m \u001b[0mtotal\u001b[0m \u001b[0;34m=\u001b[0m \u001b[0;36m00\u001b[0m  \u001b[0;31m# total value\u001b[0m\u001b[0;34m\u001b[0m\u001b[0;34m\u001b[0m\u001b[0m\n\u001b[0;32m----> 3\u001b[0;31m \u001b[0mpercentage\u001b[0m \u001b[0;34m=\u001b[0m \u001b[0;34m(\u001b[0m\u001b[0mpart\u001b[0m \u001b[0;34m/\u001b[0m \u001b[0mtotal\u001b[0m\u001b[0;34m)\u001b[0m \u001b[0;34m*\u001b[0m \u001b[0;36m100\u001b[0m\u001b[0;34m\u001b[0m\u001b[0;34m\u001b[0m\u001b[0m\n\u001b[0m\u001b[1;32m      4\u001b[0m \u001b[0mprint\u001b[0m\u001b[0;34m(\u001b[0m\u001b[0;34m\"Percentage:\"\u001b[0m\u001b[0;34m,\u001b[0m \u001b[0mpercentage\u001b[0m\u001b[0;34m)\u001b[0m\u001b[0;34m\u001b[0m\u001b[0;34m\u001b[0m\u001b[0m\n",
            "\u001b[0;31mZeroDivisionError\u001b[0m: division by zero"
          ]
        }
      ]
    },
    {
      "cell_type": "code",
      "source": [
        "#list ordered mutable insertionorder  heterogeneous growable duplicatesallowed append remove\n",
        "list = [1,2,'ravi']\n",
        "print(list)"
      ],
      "metadata": {
        "colab": {
          "base_uri": "https://localhost:8080/"
        },
        "id": "xVncZSJ5y7v8",
        "outputId": "24d8f03d-271c-4ab3-8c1c-d48bf361d122"
      },
      "execution_count": 8,
      "outputs": [
        {
          "output_type": "stream",
          "name": "stdout",
          "text": [
            "[1, 2, 'ravi']\n"
          ]
        }
      ]
    },
    {
      "cell_type": "code",
      "source": [
        "#tuple ordered noduplicates immutable noappend noremove noindexing noinsertionorder\n",
        "tuple = ('hi','ravi',8088)\n",
        "tuple"
      ],
      "metadata": {
        "colab": {
          "base_uri": "https://localhost:8080/"
        },
        "id": "LKd-ccC8y7_j",
        "outputId": "42d4a683-29fa-4818-f5ea-4f554265df39"
      },
      "execution_count": 9,
      "outputs": [
        {
          "output_type": "execute_result",
          "data": {
            "text/plain": [
              "('hi', 'ravi', 8088)"
            ]
          },
          "metadata": {},
          "execution_count": 9
        }
      ]
    },
    {
      "cell_type": "code",
      "source": [
        "#set unordered mutable heterogenous insertnotallowed add remove duplicatesnotallowed growablenature indexingnot\n",
        "s = {12,13,14,15,16}\n",
        "s.add(10)\n",
        "print(s)\n"
      ],
      "metadata": {
        "id": "ot0nz06G9Y9Q",
        "colab": {
          "base_uri": "https://localhost:8080/"
        },
        "outputId": "800b86e5-8c33-41fc-d090-cad5cff6647f"
      },
      "execution_count": 10,
      "outputs": [
        {
          "output_type": "stream",
          "name": "stdout",
          "text": [
            "{16, 10, 12, 13, 14, 15}\n"
          ]
        }
      ]
    },
    {
      "cell_type": "code",
      "source": [
        "#frozenset unordered immutable noadd noremove heterogeneous\n",
        "frozen = {'hey',10,'hello'}\n",
        "frozen"
      ],
      "metadata": {
        "colab": {
          "base_uri": "https://localhost:8080/"
        },
        "id": "8-hg63BJy2Vq",
        "outputId": "627d32b6-d9a6-4f3c-f7cc-b4ede93c1d41"
      },
      "execution_count": 11,
      "outputs": [
        {
          "output_type": "execute_result",
          "data": {
            "text/plain": [
              "{10, 'hello', 'hey'}"
            ]
          },
          "metadata": {},
          "execution_count": 11
        }
      ]
    },
    {
      "cell_type": "code",
      "source": [
        "#dictionary key-valuepair duplicatenotallowed duplicatevalueallowed mutable unordered\n",
        "dict = {101:'ravi',102:'teja',101:'hey'}\n",
        "dict"
      ],
      "metadata": {
        "colab": {
          "base_uri": "https://localhost:8080/"
        },
        "id": "MuXJH0WVzZiw",
        "outputId": "28e5ffaf-d364-4a48-9b08-b1360e9b97ff"
      },
      "execution_count": 12,
      "outputs": [
        {
          "output_type": "execute_result",
          "data": {
            "text/plain": [
              "{101: 'hey', 102: 'teja'}"
            ]
          },
          "metadata": {},
          "execution_count": 12
        }
      ]
    },
    {
      "cell_type": "code",
      "source": [
        "#none data type novalueassigned\n",
        "def m():\n",
        "  if a > 10:\n",
        "    print (\" i am the greatest\")\n",
        "  else:\n",
        "    print (\"hehehe\")"
      ],
      "metadata": {
        "id": "g-27hEdD3muv"
      },
      "execution_count": 13,
      "outputs": []
    },
    {
      "cell_type": "code",
      "source": [
        "m(2)"
      ],
      "metadata": {
        "colab": {
          "base_uri": "https://localhost:8080/",
          "height": 141
        },
        "id": "HG6zl0CI34IG",
        "outputId": "609ad714-5cf8-4e2d-cd89-f71ac2c4a143"
      },
      "execution_count": 14,
      "outputs": [
        {
          "output_type": "error",
          "ename": "TypeError",
          "evalue": "m() takes 0 positional arguments but 1 was given",
          "traceback": [
            "\u001b[0;31m---------------------------------------------------------------------------\u001b[0m",
            "\u001b[0;31mTypeError\u001b[0m                                 Traceback (most recent call last)",
            "\u001b[0;32m<ipython-input-14-c2bb2f0a7110>\u001b[0m in \u001b[0;36m<cell line: 1>\u001b[0;34m()\u001b[0m\n\u001b[0;32m----> 1\u001b[0;31m \u001b[0mm\u001b[0m\u001b[0;34m(\u001b[0m\u001b[0;36m2\u001b[0m\u001b[0;34m)\u001b[0m\u001b[0;34m\u001b[0m\u001b[0;34m\u001b[0m\u001b[0m\n\u001b[0m",
            "\u001b[0;31mTypeError\u001b[0m: m() takes 0 positional arguments but 1 was given"
          ]
        }
      ]
    },
    {
      "cell_type": "code",
      "source": [
        "a = 12\n",
        "b = 10\n",
        "print('a+b=',a+b)\n",
        "print('a-b=',a-b)\n",
        "print('a/b=',a/b)\n",
        "print('a//b=',a//b)\n",
        "print('a*b=',a*b)\n",
        "print('a**b=',a**b)"
      ],
      "metadata": {
        "id": "H_dMiJU06---"
      },
      "execution_count": null,
      "outputs": []
    },
    {
      "cell_type": "code",
      "source": [
        "Data1 = 'Hey hi ra'\n",
        "Data2 = 'Ha cheppura'\n",
        "print(Data1==Data2)\n",
        "print(Data1<Data2)\n",
        "print(Data1>Data2)\n",
        "print(Data1<=Data2)\n",
        "print(Data1>=Data2)"
      ],
      "metadata": {
        "id": "7iPGuymV9IfB"
      },
      "execution_count": null,
      "outputs": []
    },
    {
      "cell_type": "code",
      "source": [
        "w = 10\n",
        "x = 22\n",
        "print(w == x)\n",
        "print(w!=x)\n",
        "10==2==32"
      ],
      "metadata": {
        "colab": {
          "base_uri": "https://localhost:8080/"
        },
        "id": "egBTJyXj0nRC",
        "outputId": "5564c444-f5eb-4aca-dfbf-c98b6219a5f5"
      },
      "execution_count": 15,
      "outputs": [
        {
          "output_type": "stream",
          "name": "stdout",
          "text": [
            "False\n",
            "True\n"
          ]
        },
        {
          "output_type": "execute_result",
          "data": {
            "text/plain": [
              "False"
            ]
          },
          "metadata": {},
          "execution_count": 15
        }
      ]
    },
    {
      "cell_type": "code",
      "source": [
        "\"ravi\" and \"teja\"\n",
        "\"\" and \"Hey\"\n",
        "'' or 'ravi'\n",
        "'ravit' or 'ravi'"
      ],
      "metadata": {
        "colab": {
          "base_uri": "https://localhost:8080/",
          "height": 35
        },
        "id": "98vl6qGDAEhY",
        "outputId": "f6bd50e2-f111-4179-e33b-99a398de513e"
      },
      "execution_count": 16,
      "outputs": [
        {
          "output_type": "execute_result",
          "data": {
            "text/plain": [
              "'ravit'"
            ],
            "application/vnd.google.colaboratory.intrinsic+json": {
              "type": "string"
            }
          },
          "metadata": {},
          "execution_count": 16
        }
      ]
    },
    {
      "cell_type": "code",
      "source": [
        "not \"\"\n",
        "not \"ravi\""
      ],
      "metadata": {
        "colab": {
          "base_uri": "https://localhost:8080/"
        },
        "id": "leaqLwTZBimP",
        "outputId": "335447e3-3c1d-41bc-f26d-e0f027be636e"
      },
      "execution_count": 17,
      "outputs": [
        {
          "output_type": "execute_result",
          "data": {
            "text/plain": [
              "False"
            ]
          },
          "metadata": {},
          "execution_count": 17
        }
      ]
    },
    {
      "cell_type": "code",
      "source": [
        "print(4&5)\n",
        "print(6|0|9|0)\n",
        "print(4^8)"
      ],
      "metadata": {
        "colab": {
          "base_uri": "https://localhost:8080/"
        },
        "id": "HOj1sNyiCZ-Z",
        "outputId": "3b545457-73f5-41b3-d7d5-c45666f83bfb"
      },
      "execution_count": 18,
      "outputs": [
        {
          "output_type": "stream",
          "name": "stdout",
          "text": [
            "4\n",
            "15\n",
            "12\n"
          ]
        }
      ]
    },
    {
      "cell_type": "code",
      "source": [
        "print(~7)\n",
        "print(~19)"
      ],
      "metadata": {
        "colab": {
          "base_uri": "https://localhost:8080/"
        },
        "id": "7iLXcLW6FvAv",
        "outputId": "4c4810dc-c60b-4efb-8821-9ce492aed835"
      },
      "execution_count": 19,
      "outputs": [
        {
          "output_type": "stream",
          "name": "stdout",
          "text": [
            "-8\n",
            "-20\n"
          ]
        }
      ]
    },
    {
      "cell_type": "code",
      "source": [
        "print(10<<2)"
      ],
      "metadata": {
        "colab": {
          "base_uri": "https://localhost:8080/"
        },
        "id": "LAGs4g2GVzC7",
        "outputId": "90c9f546-f1cd-43c6-d4d9-1e45ce22cfb0"
      },
      "execution_count": 20,
      "outputs": [
        {
          "output_type": "stream",
          "name": "stdout",
          "text": [
            "40\n"
          ]
        }
      ]
    },
    {
      "cell_type": "code",
      "source": [
        "#assignment operator\n",
        "b = 12\n",
        "b+=3\n",
        "b"
      ],
      "metadata": {
        "colab": {
          "base_uri": "https://localhost:8080/"
        },
        "id": "qsdkiGVzWzhp",
        "outputId": "2af6d46a-2d2f-4f68-cff2-70d84829e753"
      },
      "execution_count": 21,
      "outputs": [
        {
          "output_type": "execute_result",
          "data": {
            "text/plain": [
              "15"
            ]
          },
          "metadata": {},
          "execution_count": 21
        }
      ]
    },
    {
      "cell_type": "code",
      "source": [
        "a-=5\n",
        "print(a)\n",
        "a*=2\n",
        "print(a)\n",
        "a**=2\n",
        "print(a)\n",
        "a/=2\n",
        "print(a)\n",
        "a//=2\n",
        "print(a)\n"
      ],
      "metadata": {
        "colab": {
          "base_uri": "https://localhost:8080/",
          "height": 211
        },
        "id": "UBM3Lew1ZYPk",
        "outputId": "bf53ea7a-3f43-48d7-b249-53728ae44df7"
      },
      "execution_count": 22,
      "outputs": [
        {
          "output_type": "error",
          "ename": "TypeError",
          "evalue": "unsupported operand type(s) for -=: 'range' and 'int'",
          "traceback": [
            "\u001b[0;31m---------------------------------------------------------------------------\u001b[0m",
            "\u001b[0;31mTypeError\u001b[0m                                 Traceback (most recent call last)",
            "\u001b[0;32m<ipython-input-22-8e80daff2dd1>\u001b[0m in \u001b[0;36m<cell line: 1>\u001b[0;34m()\u001b[0m\n\u001b[0;32m----> 1\u001b[0;31m \u001b[0ma\u001b[0m\u001b[0;34m-=\u001b[0m\u001b[0;36m5\u001b[0m\u001b[0;34m\u001b[0m\u001b[0;34m\u001b[0m\u001b[0m\n\u001b[0m\u001b[1;32m      2\u001b[0m \u001b[0mprint\u001b[0m\u001b[0;34m(\u001b[0m\u001b[0ma\u001b[0m\u001b[0;34m)\u001b[0m\u001b[0;34m\u001b[0m\u001b[0;34m\u001b[0m\u001b[0m\n\u001b[1;32m      3\u001b[0m \u001b[0ma\u001b[0m\u001b[0;34m*=\u001b[0m\u001b[0;36m2\u001b[0m\u001b[0;34m\u001b[0m\u001b[0;34m\u001b[0m\u001b[0m\n\u001b[1;32m      4\u001b[0m \u001b[0mprint\u001b[0m\u001b[0;34m(\u001b[0m\u001b[0ma\u001b[0m\u001b[0;34m)\u001b[0m\u001b[0;34m\u001b[0m\u001b[0;34m\u001b[0m\u001b[0m\n\u001b[1;32m      5\u001b[0m \u001b[0ma\u001b[0m\u001b[0;34m**=\u001b[0m\u001b[0;36m2\u001b[0m\u001b[0;34m\u001b[0m\u001b[0;34m\u001b[0m\u001b[0m\n",
            "\u001b[0;31mTypeError\u001b[0m: unsupported operand type(s) for -=: 'range' and 'int'"
          ]
        }
      ]
    },
    {
      "cell_type": "code",
      "source": [
        "b=10\n",
        "b+=5\n",
        "print(b)"
      ],
      "metadata": {
        "colab": {
          "base_uri": "https://localhost:8080/"
        },
        "id": "HIRcsvAMdBno",
        "outputId": "ef2b4c57-46a5-4941-9f57-0dafa92f09ab"
      },
      "execution_count": 23,
      "outputs": [
        {
          "output_type": "stream",
          "name": "stdout",
          "text": [
            "15\n"
          ]
        }
      ]
    },
    {
      "cell_type": "code",
      "source": [
        "b-=5\n",
        "print(b)\n",
        "b*=2\n",
        "print(b)\n",
        "b**=2\n",
        "print(b)\n",
        "b|=2\n",
        "print(b)\n",
        "b^=4\n",
        "print(b)\n",
        "b<<=4\n",
        "print(b)\n",
        "b>>=4\n",
        "print(b)\n",
        "b//=2\n",
        "print(b)\n",
        "b/=2\n",
        "print(b)"
      ],
      "metadata": {
        "colab": {
          "base_uri": "https://localhost:8080/"
        },
        "id": "nKjmxWzcZw3u",
        "outputId": "3edf7622-c932-440a-8aae-742ff43f166c"
      },
      "execution_count": 24,
      "outputs": [
        {
          "output_type": "stream",
          "name": "stdout",
          "text": [
            "10\n",
            "20\n",
            "400\n",
            "402\n",
            "406\n",
            "6496\n",
            "406\n",
            "203\n",
            "101.5\n"
          ]
        }
      ]
    },
    {
      "cell_type": "code",
      "source": [
        "#ternary\n",
        "Maths,Science = 78,86\n",
        "Marks = 'Qualified' if a > b else 'Not Qualified'\n",
        "print(Marks)\n",
        "a,b = 10,20\n",
        "c = 30 if a+b ==30 else 'Not a greater Number'\n",
        "print(c)\n",
        "#print min num from 3 inputs\n",
        "x = int(input('Enter the First number: '))\n",
        "y = int(input(\"Enter the second number: \"))\n",
        "z = int(input(\"Enter the third number: \"))\n",
        "Min = x if x<y and x<z else y if y<z else z\n",
        "print('Min value is: ',Min)\n",
        "\n",
        "#print max num from 5 inputs\n",
        "q = int(input(\"Enter the first value:\"))\n",
        "r = int(input(\"Enter the second value:\"))\n",
        "s = int(input(\"Enter the third value:\"))\n",
        "t = int(input(\"Ente the fourth value:\"))\n",
        "u = int(input(\"Enter the Fifth value:\"))\n",
        "Max = q if q>r and q>s and q>t and q>u else r if r > s and r>t and r>t and r>u else s if s>t and s>u else t if t>u else u\n",
        "print(\"Max value is: \",Max)\n"
      ],
      "metadata": {
        "colab": {
          "base_uri": "https://localhost:8080/",
          "height": 211
        },
        "id": "1Y0H-ULDdHJY",
        "outputId": "f3e09f08-9ea4-4d1d-a447-fac8772cee72"
      },
      "execution_count": 25,
      "outputs": [
        {
          "output_type": "error",
          "ename": "TypeError",
          "evalue": "'>' not supported between instances of 'range' and 'float'",
          "traceback": [
            "\u001b[0;31m---------------------------------------------------------------------------\u001b[0m",
            "\u001b[0;31mTypeError\u001b[0m                                 Traceback (most recent call last)",
            "\u001b[0;32m<ipython-input-25-f3b8d1dc2552>\u001b[0m in \u001b[0;36m<cell line: 3>\u001b[0;34m()\u001b[0m\n\u001b[1;32m      1\u001b[0m \u001b[0;31m#ternary\u001b[0m\u001b[0;34m\u001b[0m\u001b[0;34m\u001b[0m\u001b[0m\n\u001b[1;32m      2\u001b[0m \u001b[0mMaths\u001b[0m\u001b[0;34m,\u001b[0m\u001b[0mScience\u001b[0m \u001b[0;34m=\u001b[0m \u001b[0;36m78\u001b[0m\u001b[0;34m,\u001b[0m\u001b[0;36m86\u001b[0m\u001b[0;34m\u001b[0m\u001b[0;34m\u001b[0m\u001b[0m\n\u001b[0;32m----> 3\u001b[0;31m \u001b[0mMarks\u001b[0m \u001b[0;34m=\u001b[0m \u001b[0;34m'Qualified'\u001b[0m \u001b[0;32mif\u001b[0m \u001b[0ma\u001b[0m \u001b[0;34m>\u001b[0m \u001b[0mb\u001b[0m \u001b[0;32melse\u001b[0m \u001b[0;34m'Not Qualified'\u001b[0m\u001b[0;34m\u001b[0m\u001b[0;34m\u001b[0m\u001b[0m\n\u001b[0m\u001b[1;32m      4\u001b[0m \u001b[0mprint\u001b[0m\u001b[0;34m(\u001b[0m\u001b[0mMarks\u001b[0m\u001b[0;34m)\u001b[0m\u001b[0;34m\u001b[0m\u001b[0;34m\u001b[0m\u001b[0m\n\u001b[1;32m      5\u001b[0m \u001b[0ma\u001b[0m\u001b[0;34m,\u001b[0m\u001b[0mb\u001b[0m \u001b[0;34m=\u001b[0m \u001b[0;36m10\u001b[0m\u001b[0;34m,\u001b[0m\u001b[0;36m20\u001b[0m\u001b[0;34m\u001b[0m\u001b[0;34m\u001b[0m\u001b[0m\n",
            "\u001b[0;31mTypeError\u001b[0m: '>' not supported between instances of 'range' and 'float'"
          ]
        }
      ]
    },
    {
      "cell_type": "code",
      "source": [
        "l = input(\"Enter the first valaue:\")\n",
        "j = input(\"Enter the second value:\")\n",
        "print(\"Both the numbers or values are equal\" if l ==j else \"First value is greater than second value\" if l>j else\"Second value is greater than first value\")"
      ],
      "metadata": {
        "colab": {
          "base_uri": "https://localhost:8080/"
        },
        "id": "YlQW3fnlfnWC",
        "outputId": "9200a674-018d-4280-da77-0c0beaff62cd"
      },
      "execution_count": 26,
      "outputs": [
        {
          "output_type": "stream",
          "name": "stdout",
          "text": [
            "Enter the first valaue:\n",
            "Enter the second value:\n",
            "Both the numbers or values are equal\n"
          ]
        }
      ]
    },
    {
      "cell_type": "code",
      "source": [
        "#special operators 1) Identity oprator 2) Membership Oprator\n",
        "#Identity\n",
        "age1 = 19\n",
        "age2 = 24\n",
        "print(age1 is not age2)\n",
        "print(age1 is age2)\n",
        "\n",
        "Name1 = \"Ravi\"\n",
        "Name2 = \"Teja\"\n",
        "Name3 = \"Ravi\"\n",
        "print(id(Name1))\n",
        "print(id(Name2))\n",
        "print(id(Name3))\n",
        "print(Name1 is not Name2)\n",
        "print(Name1 is Name3)\n",
        "print(Name1 is Name2)\n",
        "\n",
        "list1 = [\"Ram\",\"Sita\",\"Laxman\"]\n",
        "list2 = [\"Ram\",\"Sita\",\"Laxman\"]\n",
        "print(id(list1))\n",
        "print(id(list2))\n",
        "print(list1 is list2)\n",
        "print(list1 is not list2)\n",
        "print(list1 == list2)"
      ],
      "metadata": {
        "colab": {
          "base_uri": "https://localhost:8080/"
        },
        "id": "AHCpzgZRojvD",
        "outputId": "c2bbf8ab-359f-4329-e612-5dd83411fd18"
      },
      "execution_count": 27,
      "outputs": [
        {
          "output_type": "stream",
          "name": "stdout",
          "text": [
            "True\n",
            "False\n",
            "132282182133296\n",
            "132282181407088\n",
            "132282182133296\n",
            "True\n",
            "True\n",
            "False\n",
            "132282181405824\n",
            "132282200211328\n",
            "False\n",
            "True\n",
            "True\n"
          ]
        }
      ]
    },
    {
      "cell_type": "code",
      "source": [
        "#Membership Oprator\n",
        "print(\"Membership operator\")\n",
        "Name = \"Hello Iam Raviteja i am learning python language\"\n",
        "print('R' in Name)\n",
        "print('Raviteja' in Name)\n",
        "print('ravi' in Name)\n",
        "print(' ' in Name)\n",
        "print(\" \")\n",
        "list = ['Hello',1,'How',2,'are',3,'you']\n",
        "print('Hello' in list)\n",
        "print(1 not in list)\n",
        "print(1 in list)"
      ],
      "metadata": {
        "colab": {
          "base_uri": "https://localhost:8080/"
        },
        "id": "qMifmGhspQ_t",
        "outputId": "91a4fb0d-33ac-420b-eb22-dc75afa32329"
      },
      "execution_count": 28,
      "outputs": [
        {
          "output_type": "stream",
          "name": "stdout",
          "text": [
            "Membership operator\n",
            "True\n",
            "True\n",
            "False\n",
            "True\n",
            " \n",
            "True\n",
            "False\n",
            "True\n"
          ]
        }
      ]
    },
    {
      "cell_type": "code",
      "source": [
        "#operator precedance\n",
        "x,y,z,a = 10,20,30,40\n",
        "print((x+y)*a+z/x+y)\n",
        "print((x+y)*a+(z/x+y))\n",
        "print((x-y)+z**a/a)"
      ],
      "metadata": {
        "id": "hN-ZPVM4tR_f",
        "colab": {
          "base_uri": "https://localhost:8080/"
        },
        "outputId": "751e2ce9-9574-42e3-f64b-986e92792554"
      },
      "execution_count": 29,
      "outputs": [
        {
          "output_type": "stream",
          "name": "stdout",
          "text": [
            "1223.0\n",
            "1223.0\n",
            "3.039416364764232e+57\n"
          ]
        }
      ]
    },
    {
      "cell_type": "code",
      "source": [
        "#maths functions\n",
        "import math\n",
        "print(math.sqrt(8))\n",
        "print(math.pi)\n"
      ],
      "metadata": {
        "colab": {
          "base_uri": "https://localhost:8080/"
        },
        "id": "FqBl7CgvB6Gi",
        "outputId": "2fe6c1a7-6627-4c22-f9fd-63e7a6f693ec"
      },
      "execution_count": 30,
      "outputs": [
        {
          "output_type": "stream",
          "name": "stdout",
          "text": [
            "2.8284271247461903\n",
            "3.141592653589793\n"
          ]
        }
      ]
    },
    {
      "cell_type": "code",
      "source": [
        "import math as m\n",
        "print(m.sqrt(8))\n",
        "print(m.pi)"
      ],
      "metadata": {
        "colab": {
          "base_uri": "https://localhost:8080/"
        },
        "id": "2S0PrnZACVqw",
        "outputId": "1fe9c284-5c32-4c5d-d494-080c61602223"
      },
      "execution_count": 31,
      "outputs": [
        {
          "output_type": "stream",
          "name": "stdout",
          "text": [
            "2.8284271247461903\n",
            "3.141592653589793\n"
          ]
        }
      ]
    },
    {
      "cell_type": "code",
      "source": [
        "from math import sqrt,pi\n",
        "print(sqrt(8))\n",
        "print(pi)"
      ],
      "metadata": {
        "colab": {
          "base_uri": "https://localhost:8080/"
        },
        "id": "dCa4yqELCiEz",
        "outputId": "c395600c-da69-448a-8067-d4566f5f337b"
      },
      "execution_count": 32,
      "outputs": [
        {
          "output_type": "stream",
          "name": "stdout",
          "text": [
            "2.8284271247461903\n",
            "3.141592653589793\n"
          ]
        }
      ]
    },
    {
      "cell_type": "code",
      "source": [
        "#find the area of circle\n",
        "from math import pi\n",
        "r = 6\n",
        "print(\"Square root of circle is \",pi*r**2)"
      ],
      "metadata": {
        "colab": {
          "base_uri": "https://localhost:8080/"
        },
        "id": "KhZDHBX2Gq0S",
        "outputId": "d9231c47-6149-4025-e06b-b9f6a09245e4"
      },
      "execution_count": 33,
      "outputs": [
        {
          "output_type": "stream",
          "name": "stdout",
          "text": [
            "Square root of circle is  113.09733552923255\n"
          ]
        }
      ]
    },
    {
      "cell_type": "code",
      "source": [
        "# math functions pi e inf nan ceil(x) floor(x) pow(x,y) factorial(x) trunc(x) gcd(x,y) sin(x) cos(x) tan(x) cosec(x) .....\n",
        "from math import pi,e,inf,nan,ceil,floor,pow,factorial,trunc,gcd,sin,cos\n",
        "x = 6.2\n",
        "y = 9\n",
        "z = 12\n",
        "print(\"Print the pi value: \",pi)\n",
        "print(\"print the e value: \",e)\n",
        "print(\"Print the infinity value: \",inf*0)\n",
        "print(\"print the not a number value: \",8)\n",
        "print(ceil(x)) #It rounds up the number by giving greater or equal to input\n",
        "print(floor(y))#It rounds down the number by giving lower or equal to input\n",
        "print(pow(x,y)) #It takes as x to the power of y\n",
        "print(factorial(y))#It gives value of factorial\n",
        "print(trunc(x))#It truncates the decimal part of number then gives the int value\n",
        "print(gcd(y,z))#It gives greater number which divides two or more and gives remainder as 0"
      ],
      "metadata": {
        "colab": {
          "base_uri": "https://localhost:8080/"
        },
        "id": "CYg98GJmDrxA",
        "outputId": "6d8654e7-d914-48d1-ef94-f1a21ab375ac"
      },
      "execution_count": 34,
      "outputs": [
        {
          "output_type": "stream",
          "name": "stdout",
          "text": [
            "Print the pi value:  3.141592653589793\n",
            "print the e value:  2.718281828459045\n",
            "Print the infinity value:  nan\n",
            "print the not a number value:  8\n",
            "7\n",
            "9\n",
            "13537086.546263555\n",
            "362880\n",
            "6\n",
            "3\n"
          ]
        }
      ]
    },
    {
      "cell_type": "code",
      "source": [
        "# infinity program\n",
        "import math\n",
        "from math import inf\n",
        "positive_int = math.inf\n",
        "z =1000\n",
        "if z > positive_int :\n",
        "  print(\"z is greater than postive infinity\")\n",
        "else:\n",
        "  print(\"z is not greater than postive infinity\")\n",
        "\n",
        "result = positive_int + 10\n",
        "print(\"Result of positive infinity is \", result)\n",
        "\n",
        "if positive_int == positive_int:\n",
        "  print(\"positive infinity is equal to itself \")\n",
        "else:\n",
        "  print(\"positive infinity is not equal to itself\")"
      ],
      "metadata": {
        "colab": {
          "base_uri": "https://localhost:8080/"
        },
        "id": "nZYIkhhyE5HC",
        "outputId": "9427908e-e4aa-4d96-f01a-8d965e58383d"
      },
      "execution_count": 38,
      "outputs": [
        {
          "output_type": "stream",
          "name": "stdout",
          "text": [
            "z is not greater than postive infinity\n",
            "Result of positive infinity is  inf\n",
            "positive infinity is equal to itself \n"
          ]
        }
      ]
    },
    {
      "cell_type": "code",
      "source": [
        "import math as m\n",
        "from math import inf\n",
        "positive_num = m.inf\n",
        "l = 101\n",
        "if l > positive_num:\n",
        "  print(\"L is greater than positive infinity\")\n",
        "else:\n",
        "  print(\"L is not greater than positive infinity\")\n",
        "\n",
        "result = positive_num + 10\n",
        "print(\"Result of positive infinity is \", result)\n",
        "\n",
        "if positive_num == positive_num:\n",
        "  print(\"positive inifinity is equal to itself\")\n",
        "else:\n",
        "  print(\"Positive infinity is not equal to itself\")"
      ],
      "metadata": {
        "colab": {
          "base_uri": "https://localhost:8080/"
        },
        "id": "M3y6BZf-DxAp",
        "outputId": "ac13f3a3-28c5-4c8d-a3bb-cd3066fe9586"
      },
      "execution_count": 39,
      "outputs": [
        {
          "output_type": "stream",
          "name": "stdout",
          "text": [
            "L is not greater than positive infinity\n",
            "Result of positive infinity is  inf\n",
            "positive inifinity is equal to itself\n"
          ]
        }
      ]
    },
    {
      "cell_type": "code",
      "source": [
        "#input & output statements\n",
        "# there two inputs\n",
        "#1. raw_input() in this data given as input will print in str type if we want to change type of data then we use type.cast method.\n",
        "#2.input() in this data it is same like raw input but here name is changed.\n",
        "v = (input(\"helo enter:\"))\n",
        "type(v)\n",
        "b_benguluru = 10\n",
        "print(type(b_benguluru))\n",
        "value=10.5\n",
        "type(value)"
      ],
      "metadata": {
        "id": "Hig9xDg4KRk9"
      },
      "execution_count": null,
      "outputs": []
    },
    {
      "cell_type": "code",
      "source": [
        "a = int(input(\"Enter first value: \"))\n",
        "b = int(input(\"Enter the second value: \"))\n",
        "print(\"Sum of both variables are: \" , a+b)\n"
      ],
      "metadata": {
        "colab": {
          "base_uri": "https://localhost:8080/"
        },
        "id": "LG1z72SANcr1",
        "outputId": "71ad436f-a97a-429a-b8a1-f75eefab9b56"
      },
      "execution_count": 41,
      "outputs": [
        {
          "output_type": "stream",
          "name": "stdout",
          "text": [
            "Enter first value: 10\n",
            "Enter the second value: 20\n",
            "Sum of both variables are:  30\n"
          ]
        }
      ]
    },
    {
      "cell_type": "code",
      "source": [
        "#Read emp data and confirm data after giving input\n",
        "eno = int(input(\"Enter employee no: \"))\n",
        "ename = input(\"Enter the emp name: \")\n",
        "esal = int(input(\"Enter the salary of emp: \"))\n",
        "eaddr = input(\"Enter the address of emp: \")\n",
        "married = bool(input(\"Emp Married?(True|False): \"))\n",
        "print(\"Please confirm the information\")\n",
        "print(\"Employee name: \",eno)\n",
        "print(\"Salary of Emp: \",ename)\n",
        "print(\"Address of Emp: \",eaddr)\n",
        "print(\"Employee Married: \",married)"
      ],
      "metadata": {
        "colab": {
          "base_uri": "https://localhost:8080/"
        },
        "id": "8zakaGnOw-db",
        "outputId": "21aa262f-f687-4afb-8c5c-d1efcf9eb1db"
      },
      "execution_count": 42,
      "outputs": [
        {
          "output_type": "stream",
          "name": "stdout",
          "text": [
            "Enter employee no: 101\n",
            "Enter the emp name: ravi\n",
            "Enter the salary of emp: 30000\n",
            "Enter the address of emp: hyd\n",
            "Emp Married?(True|False): False\n",
            "Please confirm the information\n",
            "Employee name:  101\n",
            "Salary of Emp:  ravi\n",
            "Address of Emp:  hyd\n",
            "Employee Married:  True\n"
          ]
        }
      ]
    },
    {
      "cell_type": "code",
      "source": [
        "#read multiple values from keyboard in single line\n",
        "a,b = [int(x) for x in input(\"Enter the two numbers: \").split(',')]\n",
        "print(\"Product is: \",a*b)"
      ],
      "metadata": {
        "colab": {
          "base_uri": "https://localhost:8080/"
        },
        "id": "FhnqpuUvxLHJ",
        "outputId": "af392ed2-c7f1-4ad2-c9ad-65c647222f8f"
      },
      "execution_count": 50,
      "outputs": [
        {
          "output_type": "stream",
          "name": "stdout",
          "text": [
            "Enter the two numbers: 20,20\n",
            "Product is:  400\n"
          ]
        }
      ]
    },
    {
      "cell_type": "code",
      "source": [
        "# read 3 float from keyboard with , separator n print the sum\n",
        "a,b,c = [float(x) for x in input(\"Enter the three numbers: \").split(',')]\n",
        "print(\"Sum of three numbers is: \",a+b+c)"
      ],
      "metadata": {
        "colab": {
          "base_uri": "https://localhost:8080/"
        },
        "id": "KgeV1MpJGF-x",
        "outputId": "b642f7da-379d-4c3a-b353-17dfb1995e48"
      },
      "execution_count": 51,
      "outputs": [
        {
          "output_type": "stream",
          "name": "stdout",
          "text": [
            "Enter the three numbers: 21.5,20.1,1.1\n",
            "Sum of three numbers is:  42.7\n"
          ]
        }
      ]
    },
    {
      "cell_type": "code",
      "source": [
        "#eval() eval function takes input in string n gives output\n",
        "a = eval(\"10+10+10\")\n",
        "print(a)\n",
        "b = eval(input(\"Enter the expression: \"))\n",
        "print(b)"
      ],
      "metadata": {
        "colab": {
          "base_uri": "https://localhost:8080/"
        },
        "id": "i-WoFv5xIyJ_",
        "outputId": "f95a1385-52d7-468b-b755-a4024144c55b"
      },
      "execution_count": 54,
      "outputs": [
        {
          "output_type": "stream",
          "name": "stdout",
          "text": [
            "30\n",
            "Enter the expression: '10'\n",
            "10\n"
          ]
        }
      ]
    },
    {
      "cell_type": "code",
      "source": [
        "expression = input(\"Enter a mathematical expression (e.g., 10 + 5): \")\n",
        "result = eval(expression)\n",
        "print(\"Result:\", result)"
      ],
      "metadata": {
        "id": "fP0DXQWJJec-",
        "colab": {
          "base_uri": "https://localhost:8080/"
        },
        "outputId": "8d4ee692-0fc8-4988-d621-d2963f374038"
      },
      "execution_count": 56,
      "outputs": [
        {
          "output_type": "stream",
          "name": "stdout",
          "text": [
            "Enter a mathematical expression (e.g., 10 + 5): 20+5\n",
            "Result: 25\n"
          ]
        }
      ]
    },
    {
      "cell_type": "code",
      "source": [],
      "metadata": {
        "id": "X4YeAB8MnnQw"
      },
      "execution_count": 36,
      "outputs": []
    }
  ]
}