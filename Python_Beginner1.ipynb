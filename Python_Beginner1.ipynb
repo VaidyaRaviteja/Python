{
  "nbformat": 4,
  "nbformat_minor": 0,
  "metadata": {
    "colab": {
      "provenance": [],
      "authorship_tag": "ABX9TyN15Depaskxmny52oOQTfn7",
      "include_colab_link": true
    },
    "kernelspec": {
      "name": "python3",
      "display_name": "Python 3"
    },
    "language_info": {
      "name": "python"
    }
  },
  "cells": [
    {
      "cell_type": "markdown",
      "metadata": {
        "id": "view-in-github",
        "colab_type": "text"
      },
      "source": [
        "<a href=\"https://colab.research.google.com/github/VaidyaRaviteja/Python/blob/main/Python_Beginner1.ipynb\" target=\"_parent\"><img src=\"https://colab.research.google.com/assets/colab-badge.svg\" alt=\"Open In Colab\"/></a>"
      ]
    },
    {
      "cell_type": "markdown",
      "metadata": {
        "id": "T24IFDx9eEDl"
      },
      "source": [
        "##  Data Types\n",
        "\n",
        "**Determine the type of an object:**"
      ]
    },
    {
      "cell_type": "code",
      "metadata": {
        "id": "x9sHm7_IeEDn",
        "outputId": "e6db7bbf-3e91-4ee7-a9c8-68915385166a"
      },
      "source": [
        "type(2)"
      ],
      "execution_count": null,
      "outputs": [
        {
          "output_type": "execute_result",
          "data": {
            "text/plain": [
              "int"
            ]
          },
          "metadata": {
            "tags": []
          },
          "execution_count": 7
        }
      ]
    },
    {
      "cell_type": "code",
      "metadata": {
        "colab": {
          "base_uri": "https://localhost:8080/"
        },
        "id": "Q6zkFWvR-C8V",
        "outputId": "db837d02-549f-41a1-d542-0eb4bcb234b4"
      },
      "source": [
        "type(4)"
      ],
      "execution_count": null,
      "outputs": [
        {
          "output_type": "execute_result",
          "data": {
            "text/plain": [
              "int"
            ]
          },
          "metadata": {
            "tags": []
          },
          "execution_count": 2
        }
      ]
    },
    {
      "cell_type": "code",
      "metadata": {
        "colab": {
          "base_uri": "https://localhost:8080/"
        },
        "id": "Mg5YLfnh_Av-",
        "outputId": "6ee41240-589e-4109-9b9c-a7c0d1d9e18d"
      },
      "source": [
        "type(3)"
      ],
      "execution_count": null,
      "outputs": [
        {
          "output_type": "execute_result",
          "data": {
            "text/plain": [
              "int"
            ]
          },
          "metadata": {
            "tags": []
          },
          "execution_count": 3
        }
      ]
    },
    {
      "cell_type": "code",
      "metadata": {
        "colab": {
          "base_uri": "https://localhost:8080/"
        },
        "id": "OdVi41ot_A0P",
        "outputId": "811cdddf-1317-4968-b445-4776f1312525"
      },
      "source": [
        "type(4)"
      ],
      "execution_count": null,
      "outputs": [
        {
          "output_type": "execute_result",
          "data": {
            "text/plain": [
              "int"
            ]
          },
          "metadata": {
            "tags": []
          },
          "execution_count": 4
        }
      ]
    },
    {
      "cell_type": "code",
      "metadata": {
        "colab": {
          "base_uri": "https://localhost:8080/"
        },
        "id": "S6z8J_5X_A3Y",
        "outputId": "e6bf2a00-af78-4955-c41f-7a6aa05dbf88"
      },
      "source": [
        "type(5)"
      ],
      "execution_count": null,
      "outputs": [
        {
          "output_type": "execute_result",
          "data": {
            "text/plain": [
              "int"
            ]
          },
          "metadata": {
            "tags": []
          },
          "execution_count": 5
        }
      ]
    },
    {
      "cell_type": "code",
      "metadata": {
        "colab": {
          "base_uri": "https://localhost:8080/"
        },
        "id": "QEcZSVQF_A6m",
        "outputId": "33be855e-d429-4562-cda7-4559099ebb05"
      },
      "source": [
        "type(6)"
      ],
      "execution_count": null,
      "outputs": [
        {
          "output_type": "execute_result",
          "data": {
            "text/plain": [
              "int"
            ]
          },
          "metadata": {
            "tags": []
          },
          "execution_count": 6
        }
      ]
    },
    {
      "cell_type": "code",
      "metadata": {
        "colab": {
          "base_uri": "https://localhost:8080/"
        },
        "id": "9ONxb3cl_A9_",
        "outputId": "9eaf25ef-cb9d-43a9-a9fc-596a3e81c35a"
      },
      "source": [
        "type(7)"
      ],
      "execution_count": null,
      "outputs": [
        {
          "output_type": "execute_result",
          "data": {
            "text/plain": [
              "int"
            ]
          },
          "metadata": {
            "tags": []
          },
          "execution_count": 7
        }
      ]
    },
    {
      "cell_type": "code",
      "metadata": {
        "colab": {
          "base_uri": "https://localhost:8080/"
        },
        "id": "bivf2Zf4_BBK",
        "outputId": "0096ca2e-31fa-42b7-8a4d-09870ba611f6"
      },
      "source": [
        "type(8)"
      ],
      "execution_count": null,
      "outputs": [
        {
          "output_type": "execute_result",
          "data": {
            "text/plain": [
              "int"
            ]
          },
          "metadata": {
            "tags": []
          },
          "execution_count": 8
        }
      ]
    },
    {
      "cell_type": "code",
      "metadata": {
        "id": "AdpJxQZ0eED4",
        "outputId": "67ca6f88-91c1-48ac-be57-cbe1a2ddcd4c"
      },
      "source": [
        "type('two')"
      ],
      "execution_count": null,
      "outputs": [
        {
          "output_type": "execute_result",
          "data": {
            "text/plain": [
              "str"
            ]
          },
          "metadata": {
            "tags": []
          },
          "execution_count": 9
        }
      ]
    },
    {
      "cell_type": "code",
      "metadata": {
        "colab": {
          "base_uri": "https://localhost:8080/"
        },
        "id": "B5fi9Z6PEKZ-",
        "outputId": "363f0ad0-2938-4821-8b96-fcdc69985794"
      },
      "source": [
        "type('one')\n"
      ],
      "execution_count": null,
      "outputs": [
        {
          "output_type": "execute_result",
          "data": {
            "text/plain": [
              "str"
            ]
          },
          "metadata": {
            "tags": []
          },
          "execution_count": 10
        }
      ]
    },
    {
      "cell_type": "code",
      "metadata": {
        "colab": {
          "base_uri": "https://localhost:8080/"
        },
        "id": "FhU0ttsSEKnR",
        "outputId": "2ad57896-b07d-406a-bfc5-edd1ea65d5cf"
      },
      "source": [
        "type('apple')"
      ],
      "execution_count": null,
      "outputs": [
        {
          "output_type": "execute_result",
          "data": {
            "text/plain": [
              "str"
            ]
          },
          "metadata": {
            "tags": []
          },
          "execution_count": 11
        }
      ]
    },
    {
      "cell_type": "code",
      "metadata": {
        "colab": {
          "base_uri": "https://localhost:8080/"
        },
        "id": "rlXgotaLEKvY",
        "outputId": "25f10cdf-39e4-4680-ade8-679ce1ee9599"
      },
      "source": [
        "type('dog')"
      ],
      "execution_count": null,
      "outputs": [
        {
          "output_type": "execute_result",
          "data": {
            "text/plain": [
              "str"
            ]
          },
          "metadata": {
            "tags": []
          },
          "execution_count": 12
        }
      ]
    },
    {
      "cell_type": "code",
      "metadata": {
        "colab": {
          "base_uri": "https://localhost:8080/"
        },
        "id": "BGoIrCEdEKyw",
        "outputId": "177c3c34-2a68-454a-8869-0b954994bef0"
      },
      "source": [
        "type('cat')"
      ],
      "execution_count": null,
      "outputs": [
        {
          "output_type": "execute_result",
          "data": {
            "text/plain": [
              "str"
            ]
          },
          "metadata": {
            "tags": []
          },
          "execution_count": 13
        }
      ]
    },
    {
      "cell_type": "code",
      "metadata": {
        "colab": {
          "base_uri": "https://localhost:8080/"
        },
        "id": "bwnXW2lXEK2E",
        "outputId": "dcfe96e8-d09e-40ac-b28b-33c406121843"
      },
      "source": [
        "type('milk')"
      ],
      "execution_count": null,
      "outputs": [
        {
          "output_type": "execute_result",
          "data": {
            "text/plain": [
              "str"
            ]
          },
          "metadata": {
            "tags": []
          },
          "execution_count": 14
        }
      ]
    },
    {
      "cell_type": "code",
      "metadata": {
        "id": "rAnX9fZOeED_",
        "colab": {
          "base_uri": "https://localhost:8080/"
        },
        "outputId": "156248c6-9a08-44ed-bdb3-56eeb918447a"
      },
      "source": [
        "type(2.0)"
      ],
      "execution_count": null,
      "outputs": [
        {
          "output_type": "execute_result",
          "data": {
            "text/plain": [
              "float"
            ]
          },
          "metadata": {
            "tags": []
          },
          "execution_count": 22
        }
      ]
    },
    {
      "cell_type": "code",
      "metadata": {
        "id": "rEO7Td0UeEEG",
        "colab": {
          "base_uri": "https://localhost:8080/"
        },
        "outputId": "9663bd44-c0f9-4231-9962-a1e9195df37d"
      },
      "source": [
        "type(True)"
      ],
      "execution_count": null,
      "outputs": [
        {
          "output_type": "execute_result",
          "data": {
            "text/plain": [
              "bool"
            ]
          },
          "metadata": {
            "tags": []
          },
          "execution_count": 21
        }
      ]
    },
    {
      "cell_type": "markdown",
      "metadata": {
        "id": "bLuRmd__eEEN"
      },
      "source": [
        "**Check if an object is of a given type:**"
      ]
    },
    {
      "cell_type": "code",
      "metadata": {
        "id": "hj2d6-XAeEER",
        "outputId": "f451674e-07fa-44e5-b254-ca9f7734e16d"
      },
      "source": [
        "isinstance(2.0, float)"
      ],
      "execution_count": null,
      "outputs": [
        {
          "output_type": "execute_result",
          "data": {
            "text/plain": [
              "True"
            ]
          },
          "metadata": {
            "tags": []
          },
          "execution_count": 1
        }
      ]
    },
    {
      "cell_type": "code",
      "metadata": {
        "colab": {
          "base_uri": "https://localhost:8080/"
        },
        "id": "W5bchQwseEEZ",
        "outputId": "c35596d3-369e-4223-cab2-5ddbd66892ef"
      },
      "source": [
        "isinstance(2.0, (int, float))"
      ],
      "execution_count": null,
      "outputs": [
        {
          "output_type": "execute_result",
          "data": {
            "text/plain": [
              "True"
            ]
          },
          "metadata": {
            "tags": []
          },
          "execution_count": 2
        }
      ]
    },
    {
      "cell_type": "markdown",
      "metadata": {
        "id": "yIp4-y9NeEEf"
      },
      "source": [
        "**Convert an object to a given type:**"
      ]
    },
    {
      "cell_type": "code",
      "metadata": {
        "id": "tiO8z8vEeEEi",
        "colab": {
          "base_uri": "https://localhost:8080/"
        },
        "outputId": "da31115a-770f-429e-fcd6-66113625bc57"
      },
      "source": [
        "float(22)"
      ],
      "execution_count": null,
      "outputs": [
        {
          "output_type": "execute_result",
          "data": {
            "text/plain": [
              "22.0"
            ]
          },
          "metadata": {
            "tags": []
          },
          "execution_count": 23
        }
      ]
    },
    {
      "cell_type": "code",
      "metadata": {
        "id": "DEXB0YqDeEEp",
        "colab": {
          "base_uri": "https://localhost:8080/"
        },
        "outputId": "1ba316f3-6606-4d01-adbe-a7d244fd6ac7"
      },
      "source": [
        "int(3.3)"
      ],
      "execution_count": null,
      "outputs": [
        {
          "output_type": "execute_result",
          "data": {
            "text/plain": [
              "3"
            ]
          },
          "metadata": {
            "tags": []
          },
          "execution_count": 24
        }
      ]
    },
    {
      "cell_type": "code",
      "metadata": {
        "id": "CoFizbQZeEEy",
        "outputId": "6bdeeb16-d07b-4a5d-be1c-80b238f0a769"
      },
      "source": [
        "str(2.9)"
      ],
      "execution_count": null,
      "outputs": [
        {
          "output_type": "execute_result",
          "data": {
            "text/plain": [
              "'2.9'"
            ]
          },
          "metadata": {
            "tags": []
          },
          "execution_count": 16
        }
      ]
    },
    {
      "cell_type": "markdown",
      "metadata": {
        "id": "ojomNdwXeEE4"
      },
      "source": [
        "**Zero, `None`, and empty containers are known as `False`:**"
      ]
    },
    {
      "cell_type": "code",
      "metadata": {
        "id": "Grp_HxxXeEE8",
        "outputId": "037114a2-c3b9-4ac3-ad05-665287e10545"
      },
      "source": [
        "bool(0)"
      ],
      "execution_count": null,
      "outputs": [
        {
          "output_type": "execute_result",
          "data": {
            "text/plain": [
              "False"
            ]
          },
          "metadata": {
            "tags": []
          },
          "execution_count": 17
        }
      ]
    },
    {
      "cell_type": "code",
      "metadata": {
        "id": "BbE7uEyReEFF",
        "outputId": "f81578a8-338f-401b-80ed-84f371e3c14c"
      },
      "source": [
        "bool(None)"
      ],
      "execution_count": null,
      "outputs": [
        {
          "output_type": "execute_result",
          "data": {
            "text/plain": [
              "False"
            ]
          },
          "metadata": {
            "tags": []
          },
          "execution_count": 18
        }
      ]
    },
    {
      "cell_type": "code",
      "source": [
        "bool()      # empty tuple"
      ],
      "metadata": {
        "colab": {
          "base_uri": "https://localhost:8080/"
        },
        "id": "hwk48SM2tSZR",
        "outputId": "63c1bf54-a5c0-43ce-b0f8-618780b9d346"
      },
      "execution_count": 1,
      "outputs": [
        {
          "output_type": "execute_result",
          "data": {
            "text/plain": [
              "False"
            ]
          },
          "metadata": {},
          "execution_count": 1
        }
      ]
    },
    {
      "cell_type": "code",
      "metadata": {
        "id": "ZVDxC2QAeEFM",
        "outputId": "5604ca75-a21a-4399-9938-6a50f536c052"
      },
      "source": [
        "bool('')    # empty string"
      ],
      "execution_count": null,
      "outputs": [
        {
          "output_type": "execute_result",
          "data": {
            "text/plain": [
              "False"
            ]
          },
          "metadata": {
            "tags": []
          },
          "execution_count": 19
        }
      ]
    },
    {
      "cell_type": "code",
      "metadata": {
        "id": "0yX6NIspeEFV",
        "outputId": "6084db1a-4def-4e63-cf48-fb19d8656a68"
      },
      "source": [
        "bool([])    # empty list"
      ],
      "execution_count": null,
      "outputs": [
        {
          "output_type": "execute_result",
          "data": {
            "text/plain": [
              "False"
            ]
          },
          "metadata": {
            "tags": []
          },
          "execution_count": 20
        }
      ]
    },
    {
      "cell_type": "code",
      "metadata": {
        "id": "PlF-johaeEFa",
        "outputId": "9b6d7545-59f4-40ba-d110-0a0a43c5f1e0"
      },
      "source": [
        "bool({})    # empty dictionary"
      ],
      "execution_count": null,
      "outputs": [
        {
          "output_type": "execute_result",
          "data": {
            "text/plain": [
              "False"
            ]
          },
          "metadata": {
            "tags": []
          },
          "execution_count": 21
        }
      ]
    },
    {
      "cell_type": "markdown",
      "metadata": {
        "id": "8of-vRZWeEFf"
      },
      "source": [
        "**Non-empty containers and non-zeros are known as `True`:**\n",
        "\n"
      ]
    },
    {
      "cell_type": "code",
      "metadata": {
        "id": "ILHnbPgreEFj",
        "outputId": "c6c7e434-3fe8-4efe-ccd5-18cd7ce9f337"
      },
      "source": [
        "bool(2)"
      ],
      "execution_count": null,
      "outputs": [
        {
          "output_type": "execute_result",
          "data": {
            "text/plain": [
              "True"
            ]
          },
          "metadata": {
            "tags": []
          },
          "execution_count": 22
        }
      ]
    },
    {
      "cell_type": "code",
      "metadata": {
        "id": "dbEV8ShqeEFq",
        "outputId": "dd7875f4-ec0d-4aaa-834b-f38375c9dbd0"
      },
      "source": [
        "bool('two')"
      ],
      "execution_count": null,
      "outputs": [
        {
          "output_type": "execute_result",
          "data": {
            "text/plain": [
              "True"
            ]
          },
          "metadata": {
            "tags": []
          },
          "execution_count": 23
        }
      ]
    },
    {
      "cell_type": "code",
      "metadata": {
        "id": "knB8nFqUeEF0",
        "outputId": "cfa34f02-83d8-43b8-ff96-320f6c92e669"
      },
      "source": [
        "bool([2])"
      ],
      "execution_count": null,
      "outputs": [
        {
          "output_type": "execute_result",
          "data": {
            "text/plain": [
              "True"
            ]
          },
          "metadata": {
            "tags": []
          },
          "execution_count": 24
        }
      ]
    }
  ]
}