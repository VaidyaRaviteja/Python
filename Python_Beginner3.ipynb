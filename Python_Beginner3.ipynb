{
  "nbformat": 4,
  "nbformat_minor": 0,
  "metadata": {
    "colab": {
      "provenance": [],
      "authorship_tag": "ABX9TyMGBuILBXwl/dRmoGGLFJ2D",
      "include_colab_link": true
    },
    "kernelspec": {
      "name": "python3",
      "display_name": "Python 3"
    },
    "language_info": {
      "name": "python"
    }
  },
  "cells": [
    {
      "cell_type": "markdown",
      "metadata": {
        "id": "view-in-github",
        "colab_type": "text"
      },
      "source": [
        "<a href=\"https://colab.research.google.com/github/VaidyaRaviteja/Python/blob/main/Python_Beginner3.ipynb\" target=\"_parent\"><img src=\"https://colab.research.google.com/assets/colab-badge.svg\" alt=\"Open In Colab\"/></a>"
      ]
    },
    {
      "cell_type": "markdown",
      "metadata": {
        "id": "KCmUjuiZeEIF"
      },
      "source": [
        "## Lists\n",
        "\n",
        "- **List properties:** ordered, iterable, mutable, can contain multiple data types"
      ]
    },
    {
      "cell_type": "code",
      "metadata": {
        "id": "_VdXPS8JeEIH"
      },
      "source": [
        "# create an empty list (two ways)\n",
        "empty_list = []\n",
        "empty_list = list()"
      ],
      "execution_count": null,
      "outputs": []
    },
    {
      "cell_type": "code",
      "metadata": {
        "id": "X_J_-qZReEIN"
      },
      "source": [
        "# create a list\n",
        "college = ['Labs', 'HOD', 'Principle']"
      ],
      "execution_count": 15,
      "outputs": []
    },
    {
      "cell_type": "markdown",
      "metadata": {
        "id": "ZGFIkKbpeEIW"
      },
      "source": [
        "**Examine a list:**"
      ]
    },
    {
      "cell_type": "code",
      "metadata": {
        "id": "j0Al5FSfeEIX",
        "outputId": "1500b940-a4c1-460b-aebb-00a88dcd6f0d",
        "colab": {
          "base_uri": "https://localhost:8080/",
          "height": 35
        }
      },
      "source": [
        "# print element 0\n",
        "college[0]"
      ],
      "execution_count": 16,
      "outputs": [
        {
          "output_type": "execute_result",
          "data": {
            "text/plain": [
              "'Labs'"
            ],
            "application/vnd.google.colaboratory.intrinsic+json": {
              "type": "string"
            }
          },
          "metadata": {},
          "execution_count": 16
        }
      ]
    },
    {
      "cell_type": "code",
      "metadata": {
        "id": "eDSswVqgeEIc",
        "outputId": "7da41e16-c21c-4fd6-9d0d-773e709cc4c5",
        "colab": {
          "base_uri": "https://localhost:8080/"
        }
      },
      "source": [
        "len(college)"
      ],
      "execution_count": 17,
      "outputs": [
        {
          "output_type": "execute_result",
          "data": {
            "text/plain": [
              "3"
            ]
          },
          "metadata": {},
          "execution_count": 17
        }
      ]
    },
    {
      "cell_type": "markdown",
      "metadata": {
        "id": "4qQzbmXeeEIf"
      },
      "source": [
        "**Modify a list (does not return the list):**"
      ]
    },
    {
      "cell_type": "code",
      "metadata": {
        "id": "6cwrx46TeEIg",
        "scrolled": true,
        "outputId": "7fecd9e1-e709-4457-f275-c3f9899e38f7",
        "colab": {
          "base_uri": "https://localhost:8080/"
        }
      },
      "source": [
        "# append element to end\n",
        "college.append('Ravi')\n",
        "college"
      ],
      "execution_count": 18,
      "outputs": [
        {
          "output_type": "execute_result",
          "data": {
            "text/plain": [
              "['Labs', 'HOD', 'Principle', 'Ravi']"
            ]
          },
          "metadata": {},
          "execution_count": 18
        }
      ]
    },
    {
      "cell_type": "code",
      "metadata": {
        "id": "xDPhRqpQeEIj",
        "outputId": "bc3b6311-5e93-4409-a6a9-6a24b1bfa640",
        "colab": {
          "base_uri": "https://localhost:8080/"
        }
      },
      "source": [
        "# append multiple elements to end\n",
        "college.extend(['Teja', 'Mani'])\n",
        "college"
      ],
      "execution_count": 19,
      "outputs": [
        {
          "output_type": "execute_result",
          "data": {
            "text/plain": [
              "['Labs', 'HOD', 'Principle', 'Ravi', 'Teja', 'Mani']"
            ]
          },
          "metadata": {},
          "execution_count": 19
        }
      ]
    },
    {
      "cell_type": "code",
      "metadata": {
        "outputId": "d74dd670-400f-4c68-f675-caed9698fe99",
        "colab": {
          "base_uri": "https://localhost:8080/"
        },
        "id": "_fI9dCLyzVlH"
      },
      "source": [
        "# insert element at index 0 (shifts everything right)\n",
        "college.insert(0, 'Vaidya')\n",
        "college"
      ],
      "execution_count": 22,
      "outputs": [
        {
          "output_type": "execute_result",
          "data": {
            "text/plain": [
              "['Vaidya', 'maggie', 'Labs', 'HOD', 'Principle', 'Ravi', 'Teja']"
            ]
          },
          "metadata": {},
          "execution_count": 22
        }
      ]
    },
    {
      "cell_type": "code",
      "metadata": {
        "outputId": "ff4d5b09-1778-4654-ae84-e1447c195039",
        "colab": {
          "base_uri": "https://localhost:8080/"
        },
        "id": "eUrVlYe7zVlI"
      },
      "source": [
        "# search for first instance and remove it\n",
        "college.remove('Mani')\n",
        "college"
      ],
      "execution_count": 21,
      "outputs": [
        {
          "output_type": "execute_result",
          "data": {
            "text/plain": [
              "['maggie', 'Labs', 'HOD', 'Principle', 'Ravi', 'Teja']"
            ]
          },
          "metadata": {},
          "execution_count": 21
        }
      ]
    },
    {
      "cell_type": "code",
      "metadata": {
        "outputId": "7dcee9c6-070c-4540-f301-6e360a8c956e",
        "colab": {
          "base_uri": "https://localhost:8080/",
          "height": 35
        },
        "id": "F1vJCshGzVlI"
      },
      "source": [
        "# remove element 0 and return it\n",
        "college.pop(0)"
      ],
      "execution_count": 23,
      "outputs": [
        {
          "output_type": "execute_result",
          "data": {
            "text/plain": [
              "'Vaidya'"
            ],
            "application/vnd.google.colaboratory.intrinsic+json": {
              "type": "string"
            }
          },
          "metadata": {},
          "execution_count": 23
        }
      ]
    },
    {
      "cell_type": "code",
      "metadata": {
        "outputId": "b9c2aaa8-fc12-4d16-9016-ed2b01d05fc7",
        "colab": {
          "base_uri": "https://localhost:8080/"
        },
        "id": "xxg7cwgCzVlJ"
      },
      "source": [
        "# remove element 0 (does not return it)\n",
        "del college[0]\n",
        "college"
      ],
      "execution_count": 24,
      "outputs": [
        {
          "output_type": "execute_result",
          "data": {
            "text/plain": [
              "['Labs', 'HOD', 'Principle', 'Ravi', 'Teja']"
            ]
          },
          "metadata": {},
          "execution_count": 24
        }
      ]
    },
    {
      "cell_type": "code",
      "metadata": {
        "outputId": "025e5866-60eb-41a7-d183-a8a546416159",
        "colab": {
          "base_uri": "https://localhost:8080/"
        },
        "id": "LCXTNS7bzVlK"
      },
      "source": [
        "# replace element 0\n",
        "college[0] = 'Vaidya'\n",
        "college"
      ],
      "execution_count": 25,
      "outputs": [
        {
          "output_type": "execute_result",
          "data": {
            "text/plain": [
              "['Vaidya', 'HOD', 'Principle', 'Ravi', 'Teja']"
            ]
          },
          "metadata": {},
          "execution_count": 25
        }
      ]
    },
    {
      "cell_type": "code",
      "metadata": {
        "outputId": "1fdc1fcd-24ba-4ced-ea14-d208aa1f89ab",
        "colab": {
          "base_uri": "https://localhost:8080/"
        },
        "id": "Dcxxm8FNzVlK"
      },
      "source": [
        "# concatenate lists (slower than 'extend' method)\n",
        "Friends = college + ['ned', 'rod', 'todd']\n",
        "Friends"
      ],
      "execution_count": 26,
      "outputs": [
        {
          "output_type": "execute_result",
          "data": {
            "text/plain": [
              "['Vaidya', 'HOD', 'Principle', 'Ravi', 'Teja', 'ned', 'rod', 'todd']"
            ]
          },
          "metadata": {},
          "execution_count": 26
        }
      ]
    },
    {
      "cell_type": "markdown",
      "metadata": {
        "id": "bOjtlwZIzVlL"
      },
      "source": [
        "**Find elements in a list:**"
      ]
    },
    {
      "cell_type": "code",
      "metadata": {
        "outputId": "ff9e4d05-6a17-4010-b92b-c747070ca7f6",
        "colab": {
          "base_uri": "https://localhost:8080/"
        },
        "id": "ocQTDagezVlL"
      },
      "source": [
        "# counts the number of instances\n",
        "college.count('Ravi')"
      ],
      "execution_count": 27,
      "outputs": [
        {
          "output_type": "execute_result",
          "data": {
            "text/plain": [
              "1"
            ]
          },
          "metadata": {},
          "execution_count": 27
        }
      ]
    },
    {
      "cell_type": "code",
      "metadata": {
        "outputId": "08fbeaec-d4e4-4f9c-b5be-35c8786761ab",
        "colab": {
          "base_uri": "https://localhost:8080/"
        },
        "id": "HdjWPfwnzVlM"
      },
      "source": [
        "# returns index of first instance\n",
        "college.index('Vaidya')"
      ],
      "execution_count": 29,
      "outputs": [
        {
          "output_type": "execute_result",
          "data": {
            "text/plain": [
              "0"
            ]
          },
          "metadata": {},
          "execution_count": 29
        }
      ]
    },
    {
      "cell_type": "markdown",
      "metadata": {
        "id": "AQ9fPheezVlN"
      },
      "source": [
        "**List slicing:**"
      ]
    },
    {
      "cell_type": "code",
      "metadata": {
        "collapsed": true,
        "id": "JN6B2PdbzVlN"
      },
      "source": [
        "weekdays = ['mon', 'tues', 'wed', 'thurs', 'fri']"
      ],
      "execution_count": 73,
      "outputs": []
    },
    {
      "cell_type": "code",
      "metadata": {
        "outputId": "02e8e695-b1bf-4e31-8eab-0af1490f673d",
        "colab": {
          "base_uri": "https://localhost:8080/",
          "height": 35
        },
        "id": "T9jnsRfZzVlO"
      },
      "source": [
        "# element 0\n",
        "weekdays[0]"
      ],
      "execution_count": 74,
      "outputs": [
        {
          "output_type": "execute_result",
          "data": {
            "text/plain": [
              "'mon'"
            ],
            "application/vnd.google.colaboratory.intrinsic+json": {
              "type": "string"
            }
          },
          "metadata": {},
          "execution_count": 74
        }
      ]
    },
    {
      "cell_type": "code",
      "metadata": {
        "outputId": "43d2cc02-9f73-42fe-8e5d-bd83af8e83e8",
        "colab": {
          "base_uri": "https://localhost:8080/"
        },
        "id": "FgEGJxBozVlP"
      },
      "source": [
        "# elements 0 (inclusive) to 3 (exclusive)\n",
        "weekdays[0:3]"
      ],
      "execution_count": 75,
      "outputs": [
        {
          "output_type": "execute_result",
          "data": {
            "text/plain": [
              "['mon', 'tues', 'wed']"
            ]
          },
          "metadata": {},
          "execution_count": 75
        }
      ]
    },
    {
      "cell_type": "code",
      "metadata": {
        "outputId": "0f4914b3-3851-4299-eb1b-caf764240a35",
        "colab": {
          "base_uri": "https://localhost:8080/"
        },
        "id": "2EU2VjnWzVlP"
      },
      "source": [
        "# starting point is implied to be 0\n",
        "weekdays[:3]"
      ],
      "execution_count": 76,
      "outputs": [
        {
          "output_type": "execute_result",
          "data": {
            "text/plain": [
              "['mon', 'tues', 'wed']"
            ]
          },
          "metadata": {},
          "execution_count": 76
        }
      ]
    },
    {
      "cell_type": "code",
      "metadata": {
        "outputId": "85035cae-3f71-47f5-bab8-a3ece185055f",
        "colab": {
          "base_uri": "https://localhost:8080/"
        },
        "id": "Rpl0CCbRzVlQ"
      },
      "source": [
        "# elements 3 (inclusive) through the end\n",
        "weekdays[3:]"
      ],
      "execution_count": 77,
      "outputs": [
        {
          "output_type": "execute_result",
          "data": {
            "text/plain": [
              "['thurs', 'fri']"
            ]
          },
          "metadata": {},
          "execution_count": 77
        }
      ]
    },
    {
      "cell_type": "code",
      "metadata": {
        "outputId": "3d07d1b9-fc24-41d6-ea40-5a9f73ad4291",
        "colab": {
          "base_uri": "https://localhost:8080/",
          "height": 35
        },
        "id": "OXLmP_CMzVlQ"
      },
      "source": [
        "# last element\n",
        "weekdays[-1]"
      ],
      "execution_count": 78,
      "outputs": [
        {
          "output_type": "execute_result",
          "data": {
            "text/plain": [
              "'fri'"
            ],
            "application/vnd.google.colaboratory.intrinsic+json": {
              "type": "string"
            }
          },
          "metadata": {},
          "execution_count": 78
        }
      ]
    },
    {
      "cell_type": "code",
      "metadata": {
        "outputId": "b9c47ca6-038c-44fa-fc91-1221fca271c2",
        "colab": {
          "base_uri": "https://localhost:8080/"
        },
        "id": "MJZ7dTkIzVlR"
      },
      "source": [
        "# every 2nd element (step by 2)\n",
        "weekdays[::2]"
      ],
      "execution_count": 79,
      "outputs": [
        {
          "output_type": "execute_result",
          "data": {
            "text/plain": [
              "['mon', 'wed', 'fri']"
            ]
          },
          "metadata": {},
          "execution_count": 79
        }
      ]
    },
    {
      "cell_type": "code",
      "metadata": {
        "outputId": "ce3b0081-9111-4232-a480-f8b45e3328fc",
        "colab": {
          "base_uri": "https://localhost:8080/"
        },
        "id": "ek_6EHOVzVlS"
      },
      "source": [
        "# backwards (step by -1)\n",
        "weekdays[::-1]"
      ],
      "execution_count": 80,
      "outputs": [
        {
          "output_type": "execute_result",
          "data": {
            "text/plain": [
              "['fri', 'thurs', 'wed', 'tues', 'mon']"
            ]
          },
          "metadata": {},
          "execution_count": 80
        }
      ]
    },
    {
      "cell_type": "code",
      "metadata": {
        "outputId": "9e3f570b-9a41-4602-86da-57ea5526288c",
        "colab": {
          "base_uri": "https://localhost:8080/"
        },
        "id": "xy0KDNwGzVlT"
      },
      "source": [
        "# alternative method for returning the list backwards\n",
        "list(reversed(weekdays))"
      ],
      "execution_count": 81,
      "outputs": [
        {
          "output_type": "execute_result",
          "data": {
            "text/plain": [
              "['fri', 'thurs', 'wed', 'tues', 'mon']"
            ]
          },
          "metadata": {},
          "execution_count": 81
        }
      ]
    },
    {
      "cell_type": "markdown",
      "metadata": {
        "id": "cI0tK4QkzVlT"
      },
      "source": [
        "**Sort a list in place (modifies but does not return the list):**"
      ]
    },
    {
      "cell_type": "code",
      "metadata": {
        "colab": {
          "base_uri": "https://localhost:8080/"
        },
        "id": "R2F-E7oJzVlU",
        "outputId": "31f9c9da-9d21-41db-f8f5-89da661ac96d"
      },
      "source": [
        "college.sort()\n",
        "college"
      ],
      "execution_count": 30,
      "outputs": [
        {
          "output_type": "execute_result",
          "data": {
            "text/plain": [
              "['HOD', 'Principle', 'Ravi', 'Teja', 'Vaidya']"
            ]
          },
          "metadata": {},
          "execution_count": 30
        }
      ]
    },
    {
      "cell_type": "code",
      "metadata": {
        "colab": {
          "base_uri": "https://localhost:8080/"
        },
        "id": "Y0S4P_lXzVlU",
        "outputId": "2fe20f68-3343-4d75-ea77-d4cabc6c32d6"
      },
      "source": [
        "# sort in reverse\n",
        "college.sort(reverse =True)\n",
        "college"
      ],
      "execution_count": 32,
      "outputs": [
        {
          "output_type": "execute_result",
          "data": {
            "text/plain": [
              "['Vaidya', 'Teja', 'Ravi', 'Principle', 'HOD']"
            ]
          },
          "metadata": {},
          "execution_count": 32
        }
      ]
    },
    {
      "cell_type": "code",
      "metadata": {
        "colab": {
          "base_uri": "https://localhost:8080/"
        },
        "outputId": "b82badd8-14a6-4e0d-97cf-0bea099f1fda",
        "id": "CcgoF6I7zVlV"
      },
      "source": [
        "# sort by a key\n",
        "college.sort(key=len)\n",
        "college"
      ],
      "execution_count": 33,
      "outputs": [
        {
          "output_type": "execute_result",
          "data": {
            "text/plain": [
              "['HOD', 'Teja', 'Ravi', 'Vaidya', 'Principle']"
            ]
          },
          "metadata": {},
          "execution_count": 33
        }
      ]
    },
    {
      "cell_type": "markdown",
      "metadata": {
        "id": "xbLUt-3OzVlW"
      },
      "source": [
        "**Return a sorted list (does not modify the original list):**"
      ]
    },
    {
      "cell_type": "code",
      "metadata": {
        "outputId": "7897ece8-16e2-4cf3-cc0c-fae2fd2e25aa",
        "colab": {
          "base_uri": "https://localhost:8080/"
        },
        "id": "r5-IQR09zVlX"
      },
      "source": [
        "sorted(college)"
      ],
      "execution_count": 34,
      "outputs": [
        {
          "output_type": "execute_result",
          "data": {
            "text/plain": [
              "['HOD', 'Principle', 'Ravi', 'Teja', 'Vaidya']"
            ]
          },
          "metadata": {},
          "execution_count": 34
        }
      ]
    },
    {
      "cell_type": "code",
      "metadata": {
        "outputId": "1be4fcc2-0bd3-4eb6-b518-b55f89dbca56",
        "colab": {
          "base_uri": "https://localhost:8080/"
        },
        "id": "Va9iOg2IzVlX"
      },
      "source": [
        "sorted(college, reverse=True)"
      ],
      "execution_count": 36,
      "outputs": [
        {
          "output_type": "execute_result",
          "data": {
            "text/plain": [
              "['Vaidya', 'Teja', 'Ravi', 'Principle', 'HOD']"
            ]
          },
          "metadata": {},
          "execution_count": 36
        }
      ]
    },
    {
      "cell_type": "code",
      "metadata": {
        "outputId": "4c95d3ec-0420-4dd8-d6c7-cec20feb5f10",
        "colab": {
          "base_uri": "https://localhost:8080/"
        },
        "id": "FMZo-C2SzVlY"
      },
      "source": [
        "sorted(college, key=len)"
      ],
      "execution_count": 35,
      "outputs": [
        {
          "output_type": "execute_result",
          "data": {
            "text/plain": [
              "['HOD', 'Teja', 'Ravi', 'Vaidya', 'Principle']"
            ]
          },
          "metadata": {},
          "execution_count": 35
        }
      ]
    },
    {
      "cell_type": "markdown",
      "metadata": {
        "id": "6sHBK0jrzVlY"
      },
      "source": [
        "**Insert into an already sorted list, and keep it sorted:**"
      ]
    },
    {
      "cell_type": "code",
      "metadata": {
        "outputId": "f8a25093-c250-4109-eae0-b5874529c8e8",
        "colab": {
          "base_uri": "https://localhost:8080/"
        },
        "id": "PkjHqOK0zVlZ"
      },
      "source": [
        "num = [10, 20, 40, 50]\n",
        "from bisect import insort\n",
        "insort(num, 30)\n",
        "num"
      ],
      "execution_count": 37,
      "outputs": [
        {
          "output_type": "execute_result",
          "data": {
            "text/plain": [
              "[10, 20, 30, 40, 50]"
            ]
          },
          "metadata": {},
          "execution_count": 37
        }
      ]
    },
    {
      "cell_type": "markdown",
      "metadata": {
        "id": "n7Rq-ApVzVla"
      },
      "source": [
        "**Object references and copies:**"
      ]
    },
    {
      "cell_type": "code",
      "metadata": {
        "collapsed": true,
        "id": "VxTOkpO2zVla"
      },
      "source": [
        "# create a second reference to the same list\n",
        "same_num = num"
      ],
      "execution_count": 41,
      "outputs": []
    },
    {
      "cell_type": "code",
      "metadata": {
        "outputId": "22ab535e-445a-47f3-f23d-bd8d1ddc3297",
        "colab": {
          "base_uri": "https://localhost:8080/"
        },
        "id": "sZFpWJvfzVlb"
      },
      "source": [
        "# modifies both 'num' and 'same_num'\n",
        "same_num[0] = 0\n",
        "print(num)\n",
        "print(same_num)"
      ],
      "execution_count": 42,
      "outputs": [
        {
          "output_type": "stream",
          "name": "stdout",
          "text": [
            "[0, 20, 30, 40, 50]\n",
            "[0, 20, 30, 40, 50]\n"
          ]
        }
      ]
    },
    {
      "cell_type": "code",
      "metadata": {
        "collapsed": true,
        "id": "oNLe40JCzVlb"
      },
      "source": [
        "# copy a list (two ways)\n",
        "new_num = num[:]\n",
        "new_num = list(num)"
      ],
      "execution_count": 38,
      "outputs": []
    },
    {
      "cell_type": "markdown",
      "metadata": {
        "id": "fqCwrLWHzVlc"
      },
      "source": [
        "**Examine objects:**"
      ]
    },
    {
      "cell_type": "code",
      "metadata": {
        "outputId": "2c098d75-8aa5-4b7c-e861-8a728c6a36f6",
        "colab": {
          "base_uri": "https://localhost:8080/"
        },
        "id": "wb1sd2fdzVlc"
      },
      "source": [
        "num is same_num    # checks whether they are the same object"
      ],
      "execution_count": 43,
      "outputs": [
        {
          "output_type": "execute_result",
          "data": {
            "text/plain": [
              "True"
            ]
          },
          "metadata": {},
          "execution_count": 43
        }
      ]
    },
    {
      "cell_type": "code",
      "metadata": {
        "outputId": "3dfc06a8-f688-4da8-f83a-453d91aacca6",
        "colab": {
          "base_uri": "https://localhost:8080/"
        },
        "id": "c3P4Sa42zVld"
      },
      "source": [
        "num is new_num"
      ],
      "execution_count": 44,
      "outputs": [
        {
          "output_type": "execute_result",
          "data": {
            "text/plain": [
              "False"
            ]
          },
          "metadata": {},
          "execution_count": 44
        }
      ]
    },
    {
      "cell_type": "code",
      "metadata": {
        "outputId": "f4708d65-9ae8-49ec-a476-87e20d8078e1",
        "colab": {
          "base_uri": "https://localhost:8080/"
        },
        "id": "ccCm95ewzVld"
      },
      "source": [
        "num == same_num    # checks whether they have the same contents"
      ],
      "execution_count": 47,
      "outputs": [
        {
          "output_type": "execute_result",
          "data": {
            "text/plain": [
              "True"
            ]
          },
          "metadata": {},
          "execution_count": 47
        }
      ]
    },
    {
      "cell_type": "code",
      "metadata": {
        "outputId": "0deb6bf8-5e1e-4ea4-9000-86f2c594230a",
        "colab": {
          "base_uri": "https://localhost:8080/"
        },
        "id": "0ivuGNsWzVle"
      },
      "source": [
        "num == new_num"
      ],
      "execution_count": 46,
      "outputs": [
        {
          "output_type": "execute_result",
          "data": {
            "text/plain": [
              "False"
            ]
          },
          "metadata": {},
          "execution_count": 46
        }
      ]
    },
    {
      "cell_type": "code",
      "metadata": {
        "outputId": "eb975735-e5c2-4840-c409-27bd47479e18",
        "colab": {
          "base_uri": "https://localhost:8080/"
        },
        "id": "-XZ3HwSvy_ut"
      },
      "source": [
        "len(college)"
      ],
      "execution_count": 45,
      "outputs": [
        {
          "output_type": "execute_result",
          "data": {
            "text/plain": [
              "5"
            ]
          },
          "metadata": {},
          "execution_count": 45
        }
      ]
    },
    {
      "cell_type": "markdown",
      "metadata": {
        "id": "46jkgNumy_ut"
      },
      "source": [
        "**Modify a list (does not return the list):**"
      ]
    },
    {
      "cell_type": "code",
      "metadata": {
        "scrolled": true,
        "outputId": "68aca185-c127-43e3-d2d0-8af326442f2c",
        "colab": {
          "base_uri": "https://localhost:8080/"
        },
        "id": "eMj24KQPy_uu"
      },
      "source": [
        "# append element to end\n",
        "college.append('Viggy')\n",
        "college"
      ],
      "execution_count": 48,
      "outputs": [
        {
          "output_type": "execute_result",
          "data": {
            "text/plain": [
              "['HOD', 'Teja', 'Ravi', 'Vaidya', 'Principle', 'Viggy']"
            ]
          },
          "metadata": {},
          "execution_count": 48
        }
      ]
    },
    {
      "cell_type": "code",
      "metadata": {
        "outputId": "6efb2945-aaa4-4c7f-91b0-d76718bf36c4",
        "colab": {
          "base_uri": "https://localhost:8080/"
        },
        "id": "G1fDpETFy_uv"
      },
      "source": [
        "# append multiple elements to end\n",
        "college.extend(['lectures', 'projects'])\n",
        "college"
      ],
      "execution_count": 49,
      "outputs": [
        {
          "output_type": "execute_result",
          "data": {
            "text/plain": [
              "['HOD', 'Teja', 'Ravi', 'Vaidya', 'Principle', 'Viggy', 'lectures', 'projects']"
            ]
          },
          "metadata": {},
          "execution_count": 49
        }
      ]
    },
    {
      "cell_type": "code",
      "metadata": {
        "outputId": "4140baac-c7f1-48f5-e304-a2f6ef1f0fa9",
        "colab": {
          "base_uri": "https://localhost:8080/"
        },
        "id": "SF5KMG3fy_uw"
      },
      "source": [
        "# insert element at index 0 (shifts everything right)\n",
        "college.insert(0, 'Books')\n",
        "college"
      ],
      "execution_count": 50,
      "outputs": [
        {
          "output_type": "execute_result",
          "data": {
            "text/plain": [
              "['Books',\n",
              " 'HOD',\n",
              " 'Teja',\n",
              " 'Ravi',\n",
              " 'Vaidya',\n",
              " 'Principle',\n",
              " 'Viggy',\n",
              " 'lectures',\n",
              " 'projects']"
            ]
          },
          "metadata": {},
          "execution_count": 50
        }
      ]
    },
    {
      "cell_type": "code",
      "metadata": {
        "outputId": "7952bbf3-2460-4a2c-eb94-ab0a3993153f",
        "colab": {
          "base_uri": "https://localhost:8080/"
        },
        "id": "YotnlZ9oy_uw"
      },
      "source": [
        "# search for first instance and remove it\n",
        "college.remove('Viggy')\n",
        "college"
      ],
      "execution_count": 51,
      "outputs": [
        {
          "output_type": "execute_result",
          "data": {
            "text/plain": [
              "['Books', 'HOD', 'Teja', 'Ravi', 'Vaidya', 'Principle', 'lectures', 'projects']"
            ]
          },
          "metadata": {},
          "execution_count": 51
        }
      ]
    },
    {
      "cell_type": "code",
      "metadata": {
        "outputId": "45b3b892-ef98-4816-d2a1-aaab0f45e982",
        "colab": {
          "base_uri": "https://localhost:8080/",
          "height": 35
        },
        "id": "keYYI2-my_ux"
      },
      "source": [
        "# remove element 0 and return it\n",
        "college.pop(0)"
      ],
      "execution_count": 52,
      "outputs": [
        {
          "output_type": "execute_result",
          "data": {
            "text/plain": [
              "'Books'"
            ],
            "application/vnd.google.colaboratory.intrinsic+json": {
              "type": "string"
            }
          },
          "metadata": {},
          "execution_count": 52
        }
      ]
    },
    {
      "cell_type": "code",
      "metadata": {
        "outputId": "0bf48cf7-551f-4de9-c416-77ca9192602a",
        "colab": {
          "base_uri": "https://localhost:8080/"
        },
        "id": "NAJA5QOry_uy"
      },
      "source": [
        "# remove element 0 (does not return it)\n",
        "del college[0]\n",
        "college"
      ],
      "execution_count": 53,
      "outputs": [
        {
          "output_type": "execute_result",
          "data": {
            "text/plain": [
              "['Teja', 'Ravi', 'Vaidya', 'Principle', 'lectures', 'projects']"
            ]
          },
          "metadata": {},
          "execution_count": 53
        }
      ]
    },
    {
      "cell_type": "code",
      "metadata": {
        "outputId": "36d4ffc4-4c5f-49e3-8643-a66ace8950bd",
        "colab": {
          "base_uri": "https://localhost:8080/"
        },
        "id": "EblHvtOuy_uy"
      },
      "source": [
        "# replace element 0\n",
        "college[0] = 'Raviteja'\n",
        "college"
      ],
      "execution_count": 54,
      "outputs": [
        {
          "output_type": "execute_result",
          "data": {
            "text/plain": [
              "['Raviteja', 'Ravi', 'Vaidya', 'Principle', 'lectures', 'projects']"
            ]
          },
          "metadata": {},
          "execution_count": 54
        }
      ]
    },
    {
      "cell_type": "code",
      "metadata": {
        "outputId": "7e6b6a47-5104-440c-e3c0-bb5019314c85",
        "colab": {
          "base_uri": "https://localhost:8080/"
        },
        "id": "F7F9BLpcy_uz"
      },
      "source": [
        "# concatenate lists (slower than 'extend' method)\n",
        "classmates = college + ['viggy', 'rahul', 'cherry']\n",
        "college"
      ],
      "execution_count": 55,
      "outputs": [
        {
          "output_type": "execute_result",
          "data": {
            "text/plain": [
              "['Raviteja', 'Ravi', 'Vaidya', 'Principle', 'lectures', 'projects']"
            ]
          },
          "metadata": {},
          "execution_count": 55
        }
      ]
    },
    {
      "cell_type": "markdown",
      "metadata": {
        "id": "iBUlYDUry_u0"
      },
      "source": [
        "**Find elements in a list:**"
      ]
    },
    {
      "cell_type": "code",
      "metadata": {
        "outputId": "4ad26b88-d1de-48fa-fbf8-86aa0ee22b3c",
        "colab": {
          "base_uri": "https://localhost:8080/"
        },
        "id": "tvsRFv2zy_u0"
      },
      "source": [
        "# counts the number of instances\n",
        "college.count('ravi')"
      ],
      "execution_count": 56,
      "outputs": [
        {
          "output_type": "execute_result",
          "data": {
            "text/plain": [
              "0"
            ]
          },
          "metadata": {},
          "execution_count": 56
        }
      ]
    },
    {
      "cell_type": "code",
      "metadata": {
        "outputId": "512e6b44-84a0-472b-88e0-8f5aa246d342",
        "colab": {
          "base_uri": "https://localhost:8080/"
        },
        "id": "7ISTGVf2y_u1"
      },
      "source": [
        "# returns index of first instance\n",
        "college.index('Raviteja')"
      ],
      "execution_count": 57,
      "outputs": [
        {
          "output_type": "execute_result",
          "data": {
            "text/plain": [
              "0"
            ]
          },
          "metadata": {},
          "execution_count": 57
        }
      ]
    },
    {
      "cell_type": "markdown",
      "metadata": {
        "id": "EctuiPsIy_u2"
      },
      "source": [
        "**List slicing:**"
      ]
    },
    {
      "cell_type": "code",
      "metadata": {
        "collapsed": true,
        "id": "Pida07Pzy_u2"
      },
      "source": [
        "weekdays = ['mon', 'tues', 'wed', 'thurs', 'fri']"
      ],
      "execution_count": 58,
      "outputs": []
    },
    {
      "cell_type": "code",
      "metadata": {
        "outputId": "65526007-d5b6-4b42-c11a-89e6a01c885b",
        "colab": {
          "base_uri": "https://localhost:8080/",
          "height": 35
        },
        "id": "M4qlVQBNy_u3"
      },
      "source": [
        "# element 0\n",
        "weekdays[0]"
      ],
      "execution_count": 59,
      "outputs": [
        {
          "output_type": "execute_result",
          "data": {
            "text/plain": [
              "'mon'"
            ],
            "application/vnd.google.colaboratory.intrinsic+json": {
              "type": "string"
            }
          },
          "metadata": {},
          "execution_count": 59
        }
      ]
    },
    {
      "cell_type": "code",
      "metadata": {
        "outputId": "f5748716-53e0-4591-f153-8c00e90db208",
        "colab": {
          "base_uri": "https://localhost:8080/"
        },
        "id": "xvUTWXbcy_u4"
      },
      "source": [
        "# elements 0 (inclusive) to 3 (exclusive)\n",
        "weekdays[0:3]"
      ],
      "execution_count": 60,
      "outputs": [
        {
          "output_type": "execute_result",
          "data": {
            "text/plain": [
              "['mon', 'tues', 'wed']"
            ]
          },
          "metadata": {},
          "execution_count": 60
        }
      ]
    },
    {
      "cell_type": "code",
      "metadata": {
        "outputId": "348c4101-f820-415f-fc74-870a0619ccf1",
        "colab": {
          "base_uri": "https://localhost:8080/"
        },
        "id": "SLfYdXwly_u4"
      },
      "source": [
        "# starting point is implied to be 0\n",
        "weekdays[:3]"
      ],
      "execution_count": 61,
      "outputs": [
        {
          "output_type": "execute_result",
          "data": {
            "text/plain": [
              "['mon', 'tues', 'wed']"
            ]
          },
          "metadata": {},
          "execution_count": 61
        }
      ]
    },
    {
      "cell_type": "code",
      "metadata": {
        "outputId": "d5a14df5-d985-4290-d1f4-f9b740ac3d87",
        "colab": {
          "base_uri": "https://localhost:8080/"
        },
        "id": "_e77AIhey_u5"
      },
      "source": [
        "# elements 3 (inclusive) through the end\n",
        "weekdays[3:]"
      ],
      "execution_count": 62,
      "outputs": [
        {
          "output_type": "execute_result",
          "data": {
            "text/plain": [
              "['thurs', 'fri']"
            ]
          },
          "metadata": {},
          "execution_count": 62
        }
      ]
    },
    {
      "cell_type": "code",
      "metadata": {
        "outputId": "eca99c44-7b5f-49ea-dbcf-db342756f197",
        "colab": {
          "base_uri": "https://localhost:8080/",
          "height": 35
        },
        "id": "iIouCAkKy_u6"
      },
      "source": [
        "# last element\n",
        "weekdays[-1]"
      ],
      "execution_count": 63,
      "outputs": [
        {
          "output_type": "execute_result",
          "data": {
            "text/plain": [
              "'fri'"
            ],
            "application/vnd.google.colaboratory.intrinsic+json": {
              "type": "string"
            }
          },
          "metadata": {},
          "execution_count": 63
        }
      ]
    },
    {
      "cell_type": "code",
      "metadata": {
        "outputId": "83e92cc3-3472-4181-9de1-4c6fbd2e9385",
        "colab": {
          "base_uri": "https://localhost:8080/"
        },
        "id": "NlQY1V_wy_u6"
      },
      "source": [
        "# every 2nd element (step by 2)\n",
        "weekdays[::2]"
      ],
      "execution_count": 64,
      "outputs": [
        {
          "output_type": "execute_result",
          "data": {
            "text/plain": [
              "['mon', 'wed', 'fri']"
            ]
          },
          "metadata": {},
          "execution_count": 64
        }
      ]
    },
    {
      "cell_type": "code",
      "metadata": {
        "outputId": "779e0c3b-c04a-4444-9b15-3e873f29dee3",
        "colab": {
          "base_uri": "https://localhost:8080/"
        },
        "id": "PkE6qXgqy_u7"
      },
      "source": [
        "# backwards (step by -1)\n",
        "weekdays[::-1]"
      ],
      "execution_count": 65,
      "outputs": [
        {
          "output_type": "execute_result",
          "data": {
            "text/plain": [
              "['fri', 'thurs', 'wed', 'tues', 'mon']"
            ]
          },
          "metadata": {},
          "execution_count": 65
        }
      ]
    },
    {
      "cell_type": "code",
      "metadata": {
        "outputId": "c2b8f6f1-02e5-44a1-f4cd-e5ad06380d60",
        "colab": {
          "base_uri": "https://localhost:8080/"
        },
        "id": "jHpHGYauy_u8"
      },
      "source": [
        "# alternative method for returning the list backwards\n",
        "list(reversed(weekdays))"
      ],
      "execution_count": 66,
      "outputs": [
        {
          "output_type": "execute_result",
          "data": {
            "text/plain": [
              "['fri', 'thurs', 'wed', 'tues', 'mon']"
            ]
          },
          "metadata": {},
          "execution_count": 66
        }
      ]
    },
    {
      "cell_type": "markdown",
      "metadata": {
        "id": "iWA9wiFAy_u9"
      },
      "source": [
        "**Sort a list in place (modifies but does not return the list):**"
      ]
    },
    {
      "cell_type": "code",
      "metadata": {
        "colab": {
          "base_uri": "https://localhost:8080/"
        },
        "id": "K1P1HU8by_vB",
        "outputId": "a9a179ae-f424-42a2-f24b-c203b6600e92"
      },
      "source": [
        "college.sort()\n",
        "college"
      ],
      "execution_count": 67,
      "outputs": [
        {
          "output_type": "execute_result",
          "data": {
            "text/plain": [
              "['Principle', 'Ravi', 'Raviteja', 'Vaidya', 'lectures', 'projects']"
            ]
          },
          "metadata": {},
          "execution_count": 67
        }
      ]
    },
    {
      "cell_type": "code",
      "metadata": {
        "colab": {
          "base_uri": "https://localhost:8080/"
        },
        "id": "UY0Kkq3ty_vC",
        "outputId": "09f4005d-ea74-40fb-dcbc-98dcf751f885"
      },
      "source": [
        "# sort in reverse\n",
        "college.sort(reverse =True)\n",
        "college"
      ],
      "execution_count": 68,
      "outputs": [
        {
          "output_type": "execute_result",
          "data": {
            "text/plain": [
              "['projects', 'lectures', 'Vaidya', 'Raviteja', 'Ravi', 'Principle']"
            ]
          },
          "metadata": {},
          "execution_count": 68
        }
      ]
    },
    {
      "cell_type": "code",
      "metadata": {
        "colab": {
          "base_uri": "https://localhost:8080/"
        },
        "outputId": "ba6d5708-4765-4691-ecc6-9bf9b95f1342",
        "id": "4R2NjwvFy_vD"
      },
      "source": [
        "# sort by a key\n",
        "college.sort(key=len)\n",
        "college"
      ],
      "execution_count": 69,
      "outputs": [
        {
          "output_type": "execute_result",
          "data": {
            "text/plain": [
              "['Ravi', 'Vaidya', 'projects', 'lectures', 'Raviteja', 'Principle']"
            ]
          },
          "metadata": {},
          "execution_count": 69
        }
      ]
    },
    {
      "cell_type": "markdown",
      "metadata": {
        "id": "lutgpW_Ny_vD"
      },
      "source": [
        "**Return a sorted list (does not modify the original list):**"
      ]
    },
    {
      "cell_type": "code",
      "metadata": {
        "outputId": "d2f0625f-6741-41d8-cdf4-e28ce84c51a7",
        "colab": {
          "base_uri": "https://localhost:8080/"
        },
        "id": "2ynhCQ5fy_vE"
      },
      "source": [
        "sorted(college)"
      ],
      "execution_count": 70,
      "outputs": [
        {
          "output_type": "execute_result",
          "data": {
            "text/plain": [
              "['Principle', 'Ravi', 'Raviteja', 'Vaidya', 'lectures', 'projects']"
            ]
          },
          "metadata": {},
          "execution_count": 70
        }
      ]
    },
    {
      "cell_type": "code",
      "metadata": {
        "outputId": "49981785-e9d5-41cf-8965-4fa89ede0761",
        "colab": {
          "base_uri": "https://localhost:8080/"
        },
        "id": "FWK5faKNy_vF"
      },
      "source": [
        "sorted(college, reverse=True)"
      ],
      "execution_count": 71,
      "outputs": [
        {
          "output_type": "execute_result",
          "data": {
            "text/plain": [
              "['projects', 'lectures', 'Vaidya', 'Raviteja', 'Ravi', 'Principle']"
            ]
          },
          "metadata": {},
          "execution_count": 71
        }
      ]
    },
    {
      "cell_type": "code",
      "metadata": {
        "outputId": "6ea1f30e-5c3e-44b3-a606-2f4908e9343a",
        "colab": {
          "base_uri": "https://localhost:8080/"
        },
        "id": "-XXuL-nNy_vF"
      },
      "source": [
        "sorted(college, key=len)"
      ],
      "execution_count": 72,
      "outputs": [
        {
          "output_type": "execute_result",
          "data": {
            "text/plain": [
              "['Ravi', 'Vaidya', 'projects', 'lectures', 'Raviteja', 'Principle']"
            ]
          },
          "metadata": {},
          "execution_count": 72
        }
      ]
    },
    {
      "cell_type": "markdown",
      "metadata": {
        "id": "nNU9yxv6y_vG"
      },
      "source": [
        "**Insert into an already sorted list, and keep it sorted:**"
      ]
    },
    {
      "cell_type": "code",
      "metadata": {
        "outputId": "95d59330-5532-49cd-d84b-ad3edc01e744",
        "colab": {
          "base_uri": "https://localhost:8080/"
        },
        "id": "G5cwMlS7y_vH"
      },
      "source": [
        "num = [10, 20, 40, 50]\n",
        "from bisect import insort\n",
        "insort(num, 30)\n",
        "num"
      ],
      "execution_count": 82,
      "outputs": [
        {
          "output_type": "execute_result",
          "data": {
            "text/plain": [
              "[10, 20, 30, 40, 50]"
            ]
          },
          "metadata": {},
          "execution_count": 82
        }
      ]
    },
    {
      "cell_type": "markdown",
      "metadata": {
        "id": "h_7jqhyuy_vI"
      },
      "source": [
        "**Object references and copies:**"
      ]
    },
    {
      "cell_type": "code",
      "metadata": {
        "collapsed": true,
        "id": "c7nfBT4Xy_vI"
      },
      "source": [
        "# create a second reference to the same list\n",
        "same_num = num"
      ],
      "execution_count": 83,
      "outputs": []
    },
    {
      "cell_type": "code",
      "metadata": {
        "outputId": "dd415a2b-860f-4dea-fc8b-b5af7375f9ae",
        "colab": {
          "base_uri": "https://localhost:8080/"
        },
        "id": "MOjsvpvKy_vJ"
      },
      "source": [
        "# modifies both 'num' and 'same_num'\n",
        "same_num[0] = 0\n",
        "print(num)\n",
        "print(same_num)"
      ],
      "execution_count": 84,
      "outputs": [
        {
          "output_type": "stream",
          "name": "stdout",
          "text": [
            "[0, 20, 30, 40, 50]\n",
            "[0, 20, 30, 40, 50]\n"
          ]
        }
      ]
    },
    {
      "cell_type": "code",
      "metadata": {
        "collapsed": true,
        "id": "5iwJK4vSy_vK"
      },
      "source": [
        "# copy a list (two ways)\n",
        "new_num = num[:]\n",
        "new_num = list(num)"
      ],
      "execution_count": 85,
      "outputs": []
    },
    {
      "cell_type": "markdown",
      "metadata": {
        "id": "4zgRCP1Ay_vL"
      },
      "source": [
        "**Examine objects:**"
      ]
    },
    {
      "cell_type": "code",
      "metadata": {
        "outputId": "8da8c92d-4ff7-4e79-f871-3d31a4efb192",
        "colab": {
          "base_uri": "https://localhost:8080/"
        },
        "id": "j0buYHLKy_vL"
      },
      "source": [
        "num is same_num    # checks whether they are the same object"
      ],
      "execution_count": 86,
      "outputs": [
        {
          "output_type": "execute_result",
          "data": {
            "text/plain": [
              "True"
            ]
          },
          "metadata": {},
          "execution_count": 86
        }
      ]
    },
    {
      "cell_type": "code",
      "metadata": {
        "outputId": "77ad9bb6-ff84-4b1e-de86-1d8632b1a880",
        "colab": {
          "base_uri": "https://localhost:8080/"
        },
        "id": "6gJCihX5y_vN"
      },
      "source": [
        "num is new_num"
      ],
      "execution_count": 87,
      "outputs": [
        {
          "output_type": "execute_result",
          "data": {
            "text/plain": [
              "False"
            ]
          },
          "metadata": {},
          "execution_count": 87
        }
      ]
    },
    {
      "cell_type": "code",
      "metadata": {
        "outputId": "93505e67-9ab1-488b-b74b-1a88033c2ce4",
        "id": "XUJeW67Iy_vN"
      },
      "source": [
        "num == same_num    # checks whether they have the same contents"
      ],
      "execution_count": null,
      "outputs": [
        {
          "output_type": "execute_result",
          "data": {
            "text/plain": [
              "True"
            ]
          },
          "metadata": {
            "tags": []
          },
          "execution_count": 84
        }
      ]
    },
    {
      "cell_type": "code",
      "metadata": {
        "outputId": "66ad585f-d2dc-4d4c-f28f-e69add97157e",
        "colab": {
          "base_uri": "https://localhost:8080/"
        },
        "id": "5LaUucomy_vO"
      },
      "source": [
        "num == new_num"
      ],
      "execution_count": 88,
      "outputs": [
        {
          "output_type": "execute_result",
          "data": {
            "text/plain": [
              "True"
            ]
          },
          "metadata": {},
          "execution_count": 88
        }
      ]
    },
    {
      "cell_type": "code",
      "metadata": {
        "id": "sGxcBwdReEIn",
        "outputId": "03219d77-0845-4c08-b262-85dcb547b1a5",
        "colab": {
          "base_uri": "https://localhost:8080/"
        }
      },
      "source": [
        "# insert element at index 0 (shifts everything right)\n",
        "college.insert(0, 'Ram')\n",
        "college"
      ],
      "execution_count": 89,
      "outputs": [
        {
          "output_type": "execute_result",
          "data": {
            "text/plain": [
              "['Ram', 'Ravi', 'Vaidya', 'projects', 'lectures', 'Raviteja', 'Principle']"
            ]
          },
          "metadata": {},
          "execution_count": 89
        }
      ]
    },
    {
      "cell_type": "code",
      "metadata": {
        "id": "m85tUs1deEIp",
        "outputId": "de2cff72-4bd7-4a8a-8df6-f3b6a166f811",
        "colab": {
          "base_uri": "https://localhost:8080/"
        }
      },
      "source": [
        "# search for first instance and remove it\n",
        "college.remove('Ravi')\n",
        "college"
      ],
      "execution_count": 94,
      "outputs": [
        {
          "output_type": "execute_result",
          "data": {
            "text/plain": [
              "['Ram', 'Vaidya', 'projects', 'lectures', 'Raviteja', 'Principle']"
            ]
          },
          "metadata": {},
          "execution_count": 94
        }
      ]
    },
    {
      "cell_type": "code",
      "metadata": {
        "id": "U6WV9cN7eEIs",
        "outputId": "1598b5b6-e32a-42a7-9f8e-9547c0185d40",
        "colab": {
          "base_uri": "https://localhost:8080/",
          "height": 35
        }
      },
      "source": [
        "# remove element 0 and return it\n",
        "college.pop(0)"
      ],
      "execution_count": 95,
      "outputs": [
        {
          "output_type": "execute_result",
          "data": {
            "text/plain": [
              "'Ram'"
            ],
            "application/vnd.google.colaboratory.intrinsic+json": {
              "type": "string"
            }
          },
          "metadata": {},
          "execution_count": 95
        }
      ]
    },
    {
      "cell_type": "code",
      "metadata": {
        "id": "DTkVCBZGeEIv",
        "outputId": "16391c3d-2de4-478e-c0d5-906eb0a0ada0",
        "colab": {
          "base_uri": "https://localhost:8080/"
        }
      },
      "source": [
        "# remove element 0 (does not return it)\n",
        "del college[0]\n",
        "college"
      ],
      "execution_count": 96,
      "outputs": [
        {
          "output_type": "execute_result",
          "data": {
            "text/plain": [
              "['projects', 'lectures', 'Raviteja', 'Principle']"
            ]
          },
          "metadata": {},
          "execution_count": 96
        }
      ]
    },
    {
      "cell_type": "code",
      "metadata": {
        "id": "Xi0Vk3fueEIy",
        "outputId": "c9698c56-1273-48c5-e17b-7a7024378d43",
        "colab": {
          "base_uri": "https://localhost:8080/"
        }
      },
      "source": [
        "# replace element 0\n",
        "college[0] = 'Ram'\n",
        "college"
      ],
      "execution_count": 97,
      "outputs": [
        {
          "output_type": "execute_result",
          "data": {
            "text/plain": [
              "['Ram', 'lectures', 'Raviteja', 'Principle']"
            ]
          },
          "metadata": {},
          "execution_count": 97
        }
      ]
    }
  ]
}