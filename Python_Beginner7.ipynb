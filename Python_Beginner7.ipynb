{
  "nbformat": 4,
  "nbformat_minor": 0,
  "metadata": {
    "colab": {
      "provenance": [],
      "authorship_tag": "ABX9TyN2g8WgXfHP6RkKuswiwC+9",
      "include_colab_link": true
    },
    "kernelspec": {
      "name": "python3",
      "display_name": "Python 3"
    },
    "language_info": {
      "name": "python"
    }
  },
  "cells": [
    {
      "cell_type": "markdown",
      "metadata": {
        "id": "view-in-github",
        "colab_type": "text"
      },
      "source": [
        "<a href=\"https://colab.research.google.com/github/VaidyaRaviteja/Python/blob/main/Python_Beginner7.ipynb\" target=\"_parent\"><img src=\"https://colab.research.google.com/assets/colab-badge.svg\" alt=\"Open In Colab\"/></a>"
      ]
    },
    {
      "cell_type": "markdown",
      "metadata": {
        "id": "zat-3pXueEN2"
      },
      "source": [
        "##  Sets\n",
        "\n",
        "- **Set properties:** unordered, iterable, mutable, can contain multiple data types\n",
        "- Made of unique elements (strings, numbers, or tuples)\n",
        "- Like dictionaries, but with keys only (no values)"
      ]
    },
    {
      "cell_type": "code",
      "metadata": {
        "id": "hVZo-DCeeEN2"
      },
      "source": [
        "# create an empty set\n",
        "empty_set = set()"
      ],
      "execution_count": 2,
      "outputs": []
    },
    {
      "cell_type": "code",
      "metadata": {
        "id": "J2Nq54TeeEN6"
      },
      "source": [
        "# create a set directly\n",
        "languages = {'python', 'r', 'java'}"
      ],
      "execution_count": 3,
      "outputs": []
    },
    {
      "cell_type": "code",
      "metadata": {
        "id": "kS9kHIWYeEN_"
      },
      "source": [
        "# create a set from a list\n",
        "vechile = set(['cars', 'bikes', 'lorries'])"
      ],
      "execution_count": 4,
      "outputs": []
    },
    {
      "cell_type": "markdown",
      "metadata": {
        "id": "nduzgioAeEOA"
      },
      "source": [
        "**Examine a set:**"
      ]
    },
    {
      "cell_type": "code",
      "metadata": {
        "id": "hpIvR7pUeEOA",
        "outputId": "db0fe8a3-03e4-4035-cbfc-eac4acfcca5a",
        "colab": {
          "base_uri": "https://localhost:8080/"
        }
      },
      "source": [
        "len(languages)"
      ],
      "execution_count": 5,
      "outputs": [
        {
          "output_type": "execute_result",
          "data": {
            "text/plain": [
              "3"
            ]
          },
          "metadata": {},
          "execution_count": 5
        }
      ]
    },
    {
      "cell_type": "code",
      "metadata": {
        "id": "J5ScA23DeEOD",
        "outputId": "9e4af4de-fc0a-4193-8ce2-91a5c7dc5710",
        "colab": {
          "base_uri": "https://localhost:8080/"
        }
      },
      "source": [
        "'python' in languages"
      ],
      "execution_count": 6,
      "outputs": [
        {
          "output_type": "execute_result",
          "data": {
            "text/plain": [
              "True"
            ]
          },
          "metadata": {},
          "execution_count": 6
        }
      ]
    },
    {
      "cell_type": "markdown",
      "metadata": {
        "id": "z_5fhU0ZeEOF"
      },
      "source": [
        "**Set operations:**"
      ]
    },
    {
      "cell_type": "code",
      "metadata": {
        "id": "gjufbD5feEOG",
        "outputId": "efe1922a-1df7-4632-f650-ef8b410779f9",
        "colab": {
          "base_uri": "https://localhost:8080/"
        }
      },
      "source": [
        "# intersection\n",
        "languages & vechile"
      ],
      "execution_count": 7,
      "outputs": [
        {
          "output_type": "execute_result",
          "data": {
            "text/plain": [
              "set()"
            ]
          },
          "metadata": {},
          "execution_count": 7
        }
      ]
    },
    {
      "cell_type": "code",
      "metadata": {
        "id": "r-A-Y1x1eEOL",
        "outputId": "6be32dd8-b47b-400d-e248-1644fdf374c0",
        "colab": {
          "base_uri": "https://localhost:8080/"
        }
      },
      "source": [
        "# union\n",
        "languages | vechile"
      ],
      "execution_count": 8,
      "outputs": [
        {
          "output_type": "execute_result",
          "data": {
            "text/plain": [
              "{'bikes', 'cars', 'java', 'lorries', 'python', 'r'}"
            ]
          },
          "metadata": {},
          "execution_count": 8
        }
      ]
    },
    {
      "cell_type": "code",
      "metadata": {
        "id": "PS_IDJ7IeEOM",
        "outputId": "8872e899-2b1e-4a3a-bc19-7862a727b7d6",
        "colab": {
          "base_uri": "https://localhost:8080/"
        }
      },
      "source": [
        "# set difference\n",
        "languages - vechile"
      ],
      "execution_count": 9,
      "outputs": [
        {
          "output_type": "execute_result",
          "data": {
            "text/plain": [
              "{'java', 'python', 'r'}"
            ]
          },
          "metadata": {},
          "execution_count": 9
        }
      ]
    },
    {
      "cell_type": "code",
      "metadata": {
        "id": "O0XQNkqmeEON",
        "outputId": "b68c344e-41b3-4fa3-abe1-f0aec5099bc2",
        "colab": {
          "base_uri": "https://localhost:8080/"
        }
      },
      "source": [
        "# set difference\n",
        "vechile - languages"
      ],
      "execution_count": 10,
      "outputs": [
        {
          "output_type": "execute_result",
          "data": {
            "text/plain": [
              "{'bikes', 'cars', 'lorries'}"
            ]
          },
          "metadata": {},
          "execution_count": 10
        }
      ]
    },
    {
      "cell_type": "markdown",
      "metadata": {
        "id": "IE3uiJJUeEOO"
      },
      "source": [
        "**Modify a set (does not return the set):**"
      ]
    },
    {
      "cell_type": "code",
      "metadata": {
        "id": "pWtJ6LMLeEOO",
        "outputId": "cdc64a70-c016-454f-b1c5-e1b9d6b99be3",
        "colab": {
          "base_uri": "https://localhost:8080/"
        }
      },
      "source": [
        "# add a new element\n",
        "languages.add('sql')\n",
        "languages"
      ],
      "execution_count": 11,
      "outputs": [
        {
          "output_type": "execute_result",
          "data": {
            "text/plain": [
              "{'java', 'python', 'r', 'sql'}"
            ]
          },
          "metadata": {},
          "execution_count": 11
        }
      ]
    },
    {
      "cell_type": "code",
      "metadata": {
        "id": "UQ2NYWKYeEOP",
        "outputId": "3ebc4ba3-79f8-4d63-a00e-603ece8d72ad",
        "colab": {
          "base_uri": "https://localhost:8080/"
        }
      },
      "source": [
        "# try to add an existing element (ignored, no error)\n",
        "languages.add('r')\n",
        "languages"
      ],
      "execution_count": 12,
      "outputs": [
        {
          "output_type": "execute_result",
          "data": {
            "text/plain": [
              "{'java', 'python', 'r', 'sql'}"
            ]
          },
          "metadata": {},
          "execution_count": 12
        }
      ]
    },
    {
      "cell_type": "code",
      "metadata": {
        "id": "R_arXtAmeEOQ",
        "outputId": "9e905a64-37bc-4e32-ea22-245ef8516d81",
        "colab": {
          "base_uri": "https://localhost:8080/"
        }
      },
      "source": [
        "# remove an element\n",
        "languages.remove('java')\n",
        "languages"
      ],
      "execution_count": 13,
      "outputs": [
        {
          "output_type": "execute_result",
          "data": {
            "text/plain": [
              "{'python', 'r', 'sql'}"
            ]
          },
          "metadata": {},
          "execution_count": 13
        }
      ]
    },
    {
      "cell_type": "code",
      "metadata": {
        "id": "qkATQ_nMeEOT"
      },
      "source": [
        "# try to remove a non-existing element (this would throw an error)\n",
        "# languages.remove('c')"
      ],
      "execution_count": 14,
      "outputs": []
    },
    {
      "cell_type": "code",
      "metadata": {
        "id": "3G-AXPYYeEOU",
        "outputId": "c2c81c29-7d89-4d43-80c6-a3c0b2c848dd",
        "colab": {
          "base_uri": "https://localhost:8080/"
        }
      },
      "source": [
        "# remove an element if present, but ignored otherwise\n",
        "languages.discard('c')\n",
        "languages"
      ],
      "execution_count": 15,
      "outputs": [
        {
          "output_type": "execute_result",
          "data": {
            "text/plain": [
              "{'python', 'r', 'sql'}"
            ]
          },
          "metadata": {},
          "execution_count": 15
        }
      ]
    },
    {
      "cell_type": "code",
      "metadata": {
        "id": "oheGblKeeEOV",
        "outputId": "2de9d9af-178b-4e60-d119-43e18a24646a",
        "colab": {
          "base_uri": "https://localhost:8080/",
          "height": 35
        }
      },
      "source": [
        "# remove and return an arbitrary element\n",
        "languages.pop()"
      ],
      "execution_count": 16,
      "outputs": [
        {
          "output_type": "execute_result",
          "data": {
            "text/plain": [
              "'r'"
            ],
            "application/vnd.google.colaboratory.intrinsic+json": {
              "type": "string"
            }
          },
          "metadata": {},
          "execution_count": 16
        }
      ]
    },
    {
      "cell_type": "code",
      "metadata": {
        "id": "XabZMix8eEOV",
        "outputId": "09e104fc-0db5-4367-e0a0-5faeb12a31e9",
        "colab": {
          "base_uri": "https://localhost:8080/"
        }
      },
      "source": [
        "# remove all elements\n",
        "languages.clear()\n",
        "languages"
      ],
      "execution_count": 17,
      "outputs": [
        {
          "output_type": "execute_result",
          "data": {
            "text/plain": [
              "set()"
            ]
          },
          "metadata": {},
          "execution_count": 17
        }
      ]
    },
    {
      "cell_type": "code",
      "metadata": {
        "id": "DtiuPFAyeEOX",
        "outputId": "501e287f-8b95-4ba8-bf0c-84dcf784ebe6",
        "colab": {
          "base_uri": "https://localhost:8080/"
        }
      },
      "source": [
        "# add multiple elements (can also pass a set)\n",
        "languages.update(['go', 'spark'])\n",
        "languages"
      ],
      "execution_count": 18,
      "outputs": [
        {
          "output_type": "execute_result",
          "data": {
            "text/plain": [
              "{'go', 'spark'}"
            ]
          },
          "metadata": {},
          "execution_count": 18
        }
      ]
    },
    {
      "cell_type": "markdown",
      "metadata": {
        "id": "dJ7sgSF-eEOY"
      },
      "source": [
        "**Get a sorted list of unique elements from a list:**"
      ]
    },
    {
      "cell_type": "code",
      "metadata": {
        "id": "lcTfrJE4eEOY",
        "outputId": "687295d8-1bc0-4213-a2d8-4dd89919e6b4",
        "colab": {
          "base_uri": "https://localhost:8080/"
        }
      },
      "source": [
        "sorted(set([9, 0, 2, 1, 0]))"
      ],
      "execution_count": 19,
      "outputs": [
        {
          "output_type": "execute_result",
          "data": {
            "text/plain": [
              "[0, 1, 2, 9]"
            ]
          },
          "metadata": {},
          "execution_count": 19
        }
      ]
    },
    {
      "cell_type": "code",
      "source": [],
      "metadata": {
        "id": "YjNx7nClZhr3"
      },
      "execution_count": null,
      "outputs": []
    }
  ]
}