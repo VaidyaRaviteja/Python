{
  "nbformat": 4,
  "nbformat_minor": 0,
  "metadata": {
    "colab": {
      "provenance": [],
      "authorship_tag": "ABX9TyNXE6n7+2//l76eRynQ6kPs",
      "include_colab_link": true
    },
    "kernelspec": {
      "name": "python3",
      "display_name": "Python 3"
    },
    "language_info": {
      "name": "python"
    }
  },
  "cells": [
    {
      "cell_type": "markdown",
      "metadata": {
        "id": "view-in-github",
        "colab_type": "text"
      },
      "source": [
        "<a href=\"https://colab.research.google.com/github/VaidyaRaviteja/Python/blob/main/Python_Beginner6.ipynb\" target=\"_parent\"><img src=\"https://colab.research.google.com/assets/colab-badge.svg\" alt=\"Open In Colab\"/></a>"
      ]
    },
    {
      "cell_type": "markdown",
      "metadata": {
        "id": "1_ZxRyneeEMk"
      },
      "source": [
        "##  Dictionaries\n",
        "\n",
        "- **Dictionary properties:** unordered, iterable, mutable, can contain multiple data types\n",
        "- Made of key-value pairs\n",
        "- Keys must be unique, and can be strings, numbers, or tuples\n",
        "- Values can be any type"
      ]
    },
    {
      "cell_type": "code",
      "metadata": {
        "collapsed": true,
        "id": "w6aW-h3_eEMl"
      },
      "source": [
        "# create an empty dictionary (two ways)\n",
        "empty_dict = {}\n",
        "empty_dict = dict()"
      ],
      "execution_count": null,
      "outputs": []
    },
    {
      "cell_type": "code",
      "metadata": {
        "id": "N4Lh0PfEeEMo",
        "outputId": "182b038d-c480-4d84-aa7e-530ba702f1ec",
        "colab": {
          "base_uri": "https://localhost:8080/"
        }
      },
      "source": [
        "# create a dictionary (two ways)\n",
        "EmpID1 = {'101':'raju', '102':'sanjay', '103':'rakesh'}\n",
        "EmpID2 = dict(raju='101', sanjay='102', rakesh='103')\n",
        "print(EmpID1)\n",
        "print(EmpID2)"
      ],
      "execution_count": 4,
      "outputs": [
        {
          "output_type": "stream",
          "name": "stdout",
          "text": [
            "{'101': 'raju', '102': 'sanjay', '103': 'rakesh'}\n",
            "{'raju': '101', 'sanjay': '102', 'rakesh': '103'}\n"
          ]
        }
      ]
    },
    {
      "cell_type": "code",
      "metadata": {
        "id": "eaVeL3s5eEMp",
        "outputId": "50a49bcd-7c0d-4959-f61e-2cc1733288ef",
        "colab": {
          "base_uri": "https://localhost:8080/"
        }
      },
      "source": [
        "# convert a list of tuples into a dictionary\n",
        "list_of_tuples = [('101', 'raju'), ('102','sanjay'), ('103','rakesh')]\n",
        "emp1 = dict(list_of_tuples)\n",
        "emp1"
      ],
      "execution_count": 5,
      "outputs": [
        {
          "output_type": "execute_result",
          "data": {
            "text/plain": [
              "{'101': 'raju', '102': 'sanjay', '103': 'rakesh'}"
            ]
          },
          "metadata": {},
          "execution_count": 5
        }
      ]
    },
    {
      "cell_type": "markdown",
      "metadata": {
        "id": "UdQDDoareEMr"
      },
      "source": [
        "**Examine a dictionary:**"
      ]
    },
    {
      "cell_type": "code",
      "metadata": {
        "id": "um-D1r9teEMr",
        "outputId": "ee1b8e63-2d36-43cb-fcc3-dbb32928daf2",
        "colab": {
          "base_uri": "https://localhost:8080/",
          "height": 35
        }
      },
      "source": [
        "# pass a key to return its value\n",
        "EmpID1['101']"
      ],
      "execution_count": 6,
      "outputs": [
        {
          "output_type": "execute_result",
          "data": {
            "text/plain": [
              "'raju'"
            ],
            "application/vnd.google.colaboratory.intrinsic+json": {
              "type": "string"
            }
          },
          "metadata": {},
          "execution_count": 6
        }
      ]
    },
    {
      "cell_type": "code",
      "metadata": {
        "id": "GKWBKLekeEMt",
        "outputId": "e00264fa-94ad-46e4-e33b-e65d1fa4c352",
        "colab": {
          "base_uri": "https://localhost:8080/"
        }
      },
      "source": [
        "# return the number of key-value pairs\n",
        "len(EmpID1)"
      ],
      "execution_count": 7,
      "outputs": [
        {
          "output_type": "execute_result",
          "data": {
            "text/plain": [
              "3"
            ]
          },
          "metadata": {},
          "execution_count": 7
        }
      ]
    },
    {
      "cell_type": "code",
      "metadata": {
        "id": "RqpiJD2VeEMv",
        "outputId": "4a119bce-aa20-4719-be2b-b4d8ad8a745a",
        "colab": {
          "base_uri": "https://localhost:8080/"
        }
      },
      "source": [
        "# check if key exists in dictionary\n",
        "'102' in EmpID1"
      ],
      "execution_count": 8,
      "outputs": [
        {
          "output_type": "execute_result",
          "data": {
            "text/plain": [
              "True"
            ]
          },
          "metadata": {},
          "execution_count": 8
        }
      ]
    },
    {
      "cell_type": "code",
      "metadata": {
        "id": "-aN8eK1seEMw",
        "outputId": "bed71b13-4bec-4c98-ec23-fabe97b256be",
        "colab": {
          "base_uri": "https://localhost:8080/"
        }
      },
      "source": [
        "# dictionary values are not checked\n",
        "'raju' in EmpID1"
      ],
      "execution_count": 10,
      "outputs": [
        {
          "output_type": "execute_result",
          "data": {
            "text/plain": [
              "False"
            ]
          },
          "metadata": {},
          "execution_count": 10
        }
      ]
    },
    {
      "cell_type": "code",
      "metadata": {
        "id": "BmmJMRtVeEMy",
        "outputId": "a00c8f73-7bf5-47e4-89dc-24107a109a6d",
        "colab": {
          "base_uri": "https://localhost:8080/"
        }
      },
      "source": [
        "# returns a list of keys (Python 2) or an iterable view (Python 3)\n",
        "EmpID1.keys()"
      ],
      "execution_count": 11,
      "outputs": [
        {
          "output_type": "execute_result",
          "data": {
            "text/plain": [
              "dict_keys(['101', '102', '103'])"
            ]
          },
          "metadata": {},
          "execution_count": 11
        }
      ]
    },
    {
      "cell_type": "code",
      "metadata": {
        "id": "not8MlFgeEM0",
        "outputId": "33ca8fb6-2bc2-4550-f6a3-b7985592466a",
        "colab": {
          "base_uri": "https://localhost:8080/"
        }
      },
      "source": [
        "# returns a list of values (Python 2) or an iterable view (Python 3)\n",
        "EmpID1.values()"
      ],
      "execution_count": 12,
      "outputs": [
        {
          "output_type": "execute_result",
          "data": {
            "text/plain": [
              "dict_values(['raju', 'sanjay', 'rakesh'])"
            ]
          },
          "metadata": {},
          "execution_count": 12
        }
      ]
    },
    {
      "cell_type": "code",
      "metadata": {
        "id": "qgExd5nleEM9",
        "outputId": "8b3d8e9c-f535-4279-a2a5-7266ea037e57"
      },
      "source": [
        "# returns a list of key-value pairs (Python 2) or an iterable view (Python 3)\n",
        "EmpID1.items()"
      ],
      "execution_count": null,
      "outputs": [
        {
          "output_type": "execute_result",
          "data": {
            "text/plain": [
              "[('dad', 'homer'), ('mom', 'marge'), ('size', 6)]"
            ]
          },
          "metadata": {
            "tags": []
          },
          "execution_count": 134
        }
      ]
    },
    {
      "cell_type": "markdown",
      "metadata": {
        "id": "5tutocP1eENA"
      },
      "source": [
        "**Modify a dictionary (does not return the dictionary):**"
      ]
    },
    {
      "cell_type": "code",
      "metadata": {
        "id": "WJa5o6cyeENB",
        "outputId": "4559a934-fa16-415e-daab-90c955537641",
        "colab": {
          "base_uri": "https://localhost:8080/"
        }
      },
      "source": [
        "# add a new entry\n",
        "EmpID1['104'] = 'ramesh'\n",
        "EmpID1"
      ],
      "execution_count": 15,
      "outputs": [
        {
          "output_type": "execute_result",
          "data": {
            "text/plain": [
              "{'101': 'raju', '102': 'sanjay', '103': 'rakesh', '104': 'ramesh'}"
            ]
          },
          "metadata": {},
          "execution_count": 15
        }
      ]
    },
    {
      "cell_type": "code",
      "metadata": {
        "id": "PtgdUSvLeENC",
        "outputId": "41f14698-b9aa-441a-b53e-0d8744e70d05",
        "colab": {
          "base_uri": "https://localhost:8080/"
        }
      },
      "source": [
        "# edit an existing entry\n",
        "EmpID1['104'] = 'ramesh ..'\n",
        "EmpID1"
      ],
      "execution_count": 16,
      "outputs": [
        {
          "output_type": "execute_result",
          "data": {
            "text/plain": [
              "{'101': 'raju', '102': 'sanjay', '103': 'rakesh', '104': 'ramesh ..'}"
            ]
          },
          "metadata": {},
          "execution_count": 16
        }
      ]
    },
    {
      "cell_type": "code",
      "metadata": {
        "id": "vyv3U5SseENF",
        "outputId": "28fffe13-1285-4092-d85b-dda5fc9d9125",
        "colab": {
          "base_uri": "https://localhost:8080/"
        }
      },
      "source": [
        "# delete an entry\n",
        "del EmpID1['104']\n",
        "EmpID1"
      ],
      "execution_count": 17,
      "outputs": [
        {
          "output_type": "execute_result",
          "data": {
            "text/plain": [
              "{'101': 'raju', '102': 'sanjay', '103': 'rakesh'}"
            ]
          },
          "metadata": {},
          "execution_count": 17
        }
      ]
    },
    {
      "cell_type": "code",
      "metadata": {
        "id": "W2wPiNyIeENH",
        "outputId": "3dfc39d5-086e-45b4-cf87-812c192f18aa",
        "colab": {
          "base_uri": "https://localhost:8080/"
        }
      },
      "source": [
        "# dictionary value can be a list\n",
        "EmpID1['104'] = ['sam', 'James']\n",
        "EmpID1"
      ],
      "execution_count": 18,
      "outputs": [
        {
          "output_type": "execute_result",
          "data": {
            "text/plain": [
              "{'101': 'raju', '102': 'sanjay', '103': 'rakesh', '104': ['sam', 'James']}"
            ]
          },
          "metadata": {},
          "execution_count": 18
        }
      ]
    },
    {
      "cell_type": "code",
      "metadata": {
        "id": "uZw1l559eENK",
        "outputId": "a8e75d9b-b3e5-430b-8066-1bc2a0023b68",
        "colab": {
          "base_uri": "https://localhost:8080/",
          "height": 35
        }
      },
      "source": [
        "# remove an entry and return the value\n",
        "EmpID1.pop('101')"
      ],
      "execution_count": 19,
      "outputs": [
        {
          "output_type": "execute_result",
          "data": {
            "text/plain": [
              "'raju'"
            ],
            "application/vnd.google.colaboratory.intrinsic+json": {
              "type": "string"
            }
          },
          "metadata": {},
          "execution_count": 19
        }
      ]
    },
    {
      "cell_type": "code",
      "metadata": {
        "id": "pgwxSbeleENL",
        "outputId": "7ac3b101-812b-4c38-d1f3-ab0d321730d3",
        "colab": {
          "base_uri": "https://localhost:8080/"
        }
      },
      "source": [
        "# add multiple entries\n",
        "EmpID1.update({'103':'rajesh', '104':'abhi'})\n",
        "EmpID1"
      ],
      "execution_count": 20,
      "outputs": [
        {
          "output_type": "execute_result",
          "data": {
            "text/plain": [
              "{'102': 'sanjay', '103': 'rajesh', '104': 'abhi'}"
            ]
          },
          "metadata": {},
          "execution_count": 20
        }
      ]
    },
    {
      "cell_type": "markdown",
      "metadata": {
        "id": "8uQC369WeENQ"
      },
      "source": [
        "**Access values more safely with `get`:**"
      ]
    },
    {
      "cell_type": "code",
      "metadata": {
        "id": "fxmwOIZweENR",
        "outputId": "fdf118cc-def8-4eb2-e548-da28147c08c4",
        "colab": {
          "base_uri": "https://localhost:8080/",
          "height": 35
        }
      },
      "source": [
        "EmpID1['103']"
      ],
      "execution_count": 22,
      "outputs": [
        {
          "output_type": "execute_result",
          "data": {
            "text/plain": [
              "'rajesh'"
            ],
            "application/vnd.google.colaboratory.intrinsic+json": {
              "type": "string"
            }
          },
          "metadata": {},
          "execution_count": 22
        }
      ]
    },
    {
      "cell_type": "code",
      "metadata": {
        "id": "QKiCYFCdeENX",
        "outputId": "1c52df41-34bd-4e99-c1a5-e578fc0722b5",
        "colab": {
          "base_uri": "https://localhost:8080/",
          "height": 35
        }
      },
      "source": [
        "# equivalent to a dictionary lookup\n",
        "EmpID1.get('103')"
      ],
      "execution_count": 23,
      "outputs": [
        {
          "output_type": "execute_result",
          "data": {
            "text/plain": [
              "'rajesh'"
            ],
            "application/vnd.google.colaboratory.intrinsic+json": {
              "type": "string"
            }
          },
          "metadata": {},
          "execution_count": 23
        }
      ]
    },
    {
      "cell_type": "code",
      "metadata": {
        "id": "iyIptX_EeENZ"
      },
      "source": [
        "# this would throw an error since the key does not exist\n",
        "# EmpID1['109']"
      ],
      "execution_count": null,
      "outputs": []
    },
    {
      "cell_type": "code",
      "metadata": {
        "collapsed": true,
        "id": "A2A1AvFmeENd"
      },
      "source": [
        "# return None if not found\n",
        "EmpID1.get('109')"
      ],
      "execution_count": 24,
      "outputs": []
    },
    {
      "cell_type": "code",
      "metadata": {
        "id": "MPEZqh1HeENh",
        "outputId": "dc490364-32ed-4fb5-d8ea-dfd3f0746cb9",
        "colab": {
          "base_uri": "https://localhost:8080/",
          "height": 35
        }
      },
      "source": [
        "# provide a default return value if not found\n",
        "EmpID1.get('109', 'not found')"
      ],
      "execution_count": 25,
      "outputs": [
        {
          "output_type": "execute_result",
          "data": {
            "text/plain": [
              "'not found'"
            ],
            "application/vnd.google.colaboratory.intrinsic+json": {
              "type": "string"
            }
          },
          "metadata": {},
          "execution_count": 25
        }
      ]
    },
    {
      "cell_type": "markdown",
      "metadata": {
        "id": "A4aTGPq7eENk"
      },
      "source": [
        "**Access a list element within a dictionary:**"
      ]
    },
    {
      "cell_type": "code",
      "metadata": {
        "id": "l-RB9K8meENk",
        "outputId": "b28d5d24-143d-4a30-ab84-fc0116ad1cdb",
        "colab": {
          "base_uri": "https://localhost:8080/",
          "height": 35
        }
      },
      "source": [
        "EmpID1['104'][0]"
      ],
      "execution_count": 26,
      "outputs": [
        {
          "output_type": "execute_result",
          "data": {
            "text/plain": [
              "'a'"
            ],
            "application/vnd.google.colaboratory.intrinsic+json": {
              "type": "string"
            }
          },
          "metadata": {},
          "execution_count": 26
        }
      ]
    }
  ]
}